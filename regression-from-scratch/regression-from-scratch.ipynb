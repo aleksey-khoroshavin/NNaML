{
 "cells": [
  {
   "cell_type": "markdown",
   "source": [
    "# Полиномиальная регрессия. Регуляризация. Полиномиальная и линейная регрессия. Кросс-валидация."
   ],
   "metadata": {
    "collapsed": false
   },
   "id": "77c4a23bdb08558e"
  },
  {
   "cell_type": "code",
   "execution_count": 64,
   "id": "initial_id",
   "metadata": {
    "collapsed": true,
    "ExecuteTime": {
     "end_time": "2023-09-16T09:10:28.403679600Z",
     "start_time": "2023-09-16T09:10:28.357671700Z"
    }
   },
   "outputs": [],
   "source": [
    "import numpy as np\n",
    "import random\n",
    "from matplotlib import pyplot as plt\n",
    "\n",
    "from sklearn.model_selection import train_test_split\n",
    "from sklearn.metrics import mean_squared_error"
   ]
  },
  {
   "cell_type": "markdown",
   "source": [
    "Функции для распознавания"
   ],
   "metadata": {
    "collapsed": false
   },
   "id": "65fdf1fe54e0104e"
  },
  {
   "cell_type": "code",
   "execution_count": 65,
   "outputs": [],
   "source": [
    "def func(x):\n",
    "    return np.sin(2 * np.pi * x)\n",
    "    # return 5 * (x ** 3) + x ** 2 + 5\n",
    "    # return x * np.sin(2 * np.pi * x)"
   ],
   "metadata": {
    "collapsed": false,
    "ExecuteTime": {
     "end_time": "2023-09-16T09:10:28.428943600Z",
     "start_time": "2023-09-16T09:10:28.365671900Z"
    }
   },
   "id": "84c08ed82df1cf54"
  },
  {
   "cell_type": "markdown",
   "source": [
    "Функция для построения полинома"
   ],
   "metadata": {
    "collapsed": false
   },
   "id": "e95b3d50fed79efc"
  },
  {
   "cell_type": "code",
   "execution_count": 66,
   "outputs": [],
   "source": [
    "def polynom(x, w):\n",
    "    y = 0\n",
    "    for i in range(len(w)):\n",
    "        y += w[i] * (x ** i)\n",
    "    return y"
   ],
   "metadata": {
    "collapsed": false,
    "ExecuteTime": {
     "end_time": "2023-09-16T09:10:28.430944Z",
     "start_time": "2023-09-16T09:10:28.379203900Z"
    }
   },
   "id": "685eb12aebf1580e"
  },
  {
   "cell_type": "markdown",
   "source": [
    "Равномерное распределение ошибки"
   ],
   "metadata": {
    "collapsed": false
   },
   "id": "5a486b84e5a1a1a8"
  },
  {
   "cell_type": "code",
   "execution_count": 67,
   "outputs": [],
   "source": [
    "def uniform_epsilon():\n",
    "    return random.uniform(0, 1)"
   ],
   "metadata": {
    "collapsed": false,
    "ExecuteTime": {
     "end_time": "2023-09-16T09:10:28.443942700Z",
     "start_time": "2023-09-16T09:10:28.386695600Z"
    }
   },
   "id": "45fbba1a58cd5db4"
  },
  {
   "cell_type": "markdown",
   "source": [
    "Нормальное распределение ошибки (в данном случае используется преобразование Бокса-Мюллера, а не ЦПТ, так как первый сопсоб более точный)"
   ],
   "metadata": {
    "collapsed": false
   },
   "id": "b7cbf5798bfb6bbe"
  },
  {
   "cell_type": "code",
   "execution_count": 68,
   "outputs": [],
   "source": [
    "def normal_epsilon(mu=0.0, sigma=1.0, n = 12):\n",
    "    Hi_array = np.random.uniform(0,1,n)\n",
    "    # print(Hi_array)\n",
    "    Sn = np.sum(Hi_array)\n",
    "    # print(Sn)\n",
    "    nu = (Sn - (n/2))/(np.sqrt(n/12))\n",
    "    # print(nu)\n",
    "    epsilon = mu + nu*sigma\n",
    "    # print(epsilon)\n",
    "    \n",
    "    return epsilon\n",
    "    "
   ],
   "metadata": {
    "collapsed": false,
    "ExecuteTime": {
     "end_time": "2023-09-16T09:10:28.443942700Z",
     "start_time": "2023-09-16T09:10:28.394953300Z"
    }
   },
   "id": "6fd6a18a79c24fe8"
  },
  {
   "cell_type": "markdown",
   "source": [
    "Генерация случайно ошибки"
   ],
   "metadata": {
    "collapsed": false
   },
   "id": "9441daf14b8f7ad5"
  },
  {
   "cell_type": "code",
   "execution_count": 69,
   "outputs": [],
   "source": [
    "def error_uniform(x):\n",
    "    return func(x) + uniform_epsilon()"
   ],
   "metadata": {
    "collapsed": false,
    "ExecuteTime": {
     "end_time": "2023-09-16T09:10:28.444943Z",
     "start_time": "2023-09-16T09:10:28.399681Z"
    }
   },
   "id": "178e524a2993c6a7"
  },
  {
   "cell_type": "code",
   "execution_count": 70,
   "outputs": [],
   "source": [
    "def error_normal(x):\n",
    "    return func(x) + normal_epsilon()"
   ],
   "metadata": {
    "collapsed": false,
    "ExecuteTime": {
     "end_time": "2023-09-16T09:10:28.444943Z",
     "start_time": "2023-09-16T09:10:28.406617900Z"
    }
   },
   "id": "49968b13b430d50"
  },
  {
   "cell_type": "markdown",
   "source": [
    "Пример равномерно распределенной случайной величины"
   ],
   "metadata": {
    "collapsed": false
   },
   "id": "28dad4d8ec2c395b"
  },
  {
   "cell_type": "code",
   "execution_count": 71,
   "outputs": [
    {
     "name": "stdout",
     "output_type": "stream",
     "text": [
      "0.984287084852024\n"
     ]
    }
   ],
   "source": [
    "print(uniform_epsilon())"
   ],
   "metadata": {
    "collapsed": false,
    "ExecuteTime": {
     "end_time": "2023-09-16T09:10:28.444943Z",
     "start_time": "2023-09-16T09:10:28.412814Z"
    }
   },
   "id": "75eaa95bfe4a1985"
  },
  {
   "cell_type": "markdown",
   "source": [
    "Пример нормально распределенной случайно величины"
   ],
   "metadata": {
    "collapsed": false
   },
   "id": "75012778bf8b6c29"
  },
  {
   "cell_type": "code",
   "execution_count": 72,
   "outputs": [
    {
     "name": "stdout",
     "output_type": "stream",
     "text": [
      "0.07009244495492073\n"
     ]
    }
   ],
   "source": [
    "print(normal_epsilon())"
   ],
   "metadata": {
    "collapsed": false,
    "ExecuteTime": {
     "end_time": "2023-09-16T09:10:28.444943Z",
     "start_time": "2023-09-16T09:10:28.420718900Z"
    }
   },
   "id": "84e542ddea270f2a"
  }
 ],
 "metadata": {
  "kernelspec": {
   "display_name": "Python 3",
   "language": "python",
   "name": "python3"
  },
  "language_info": {
   "codemirror_mode": {
    "name": "ipython",
    "version": 2
   },
   "file_extension": ".py",
   "mimetype": "text/x-python",
   "name": "python",
   "nbconvert_exporter": "python",
   "pygments_lexer": "ipython2",
   "version": "2.7.6"
  }
 },
 "nbformat": 4,
 "nbformat_minor": 5
}
