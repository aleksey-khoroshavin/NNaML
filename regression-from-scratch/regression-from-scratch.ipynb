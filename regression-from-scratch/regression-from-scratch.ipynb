{
 "cells": [
  {
   "cell_type": "markdown",
   "source": [
    "# Полиномиальная регрессия. Регуляризация. Полиномиальная и линейная регрессия. Кросс-валидация."
   ],
   "metadata": {
    "collapsed": false
   },
   "id": "77c4a23bdb08558e"
  },
  {
   "cell_type": "code",
   "execution_count": 1,
   "id": "initial_id",
   "metadata": {
    "collapsed": true,
    "ExecuteTime": {
     "end_time": "2023-09-09T11:00:21.091689700Z",
     "start_time": "2023-09-09T11:00:15.694323200Z"
    }
   },
   "outputs": [],
   "source": [
    "import numpy as np\n",
    "from matplotlib import pyplot as plt\n",
    "\n",
    "from sklearn.model_selection import train_test_split\n",
    "from sklearn.metrics import mean_squared_error"
   ]
  },
  {
   "cell_type": "markdown",
   "source": [
    "Функции для распознавания"
   ],
   "metadata": {
    "collapsed": false
   },
   "id": "65fdf1fe54e0104e"
  },
  {
   "cell_type": "code",
   "execution_count": 2,
   "outputs": [],
   "source": [
    "def func(x):\n",
    "    return np.sin(2 * np.pi * x)\n",
    "    # return 5 * (x ** 3) + x ** 2 + 5\n",
    "    # return x * np.sin(2 * np.pi * x)"
   ],
   "metadata": {
    "collapsed": false,
    "ExecuteTime": {
     "end_time": "2023-09-09T11:00:24.885818700Z",
     "start_time": "2023-09-09T11:00:24.872818800Z"
    }
   },
   "id": "84c08ed82df1cf54"
  },
  {
   "cell_type": "markdown",
   "source": [
    "Функция для построения полинома"
   ],
   "metadata": {
    "collapsed": false
   },
   "id": "e95b3d50fed79efc"
  },
  {
   "cell_type": "code",
   "execution_count": 3,
   "outputs": [],
   "source": [
    "def polynom(x, w):\n",
    "    y = 0\n",
    "    for i in range(len(w)):\n",
    "        y += w[i] * (x ** i)\n",
    "    return y"
   ],
   "metadata": {
    "collapsed": false,
    "ExecuteTime": {
     "end_time": "2023-09-09T11:00:26.966591800Z",
     "start_time": "2023-09-09T11:00:26.951590400Z"
    }
   },
   "id": "685eb12aebf1580e"
  },
  {
   "cell_type": "markdown",
   "source": [
    "Равномерное распределение ошибки"
   ],
   "metadata": {
    "collapsed": false
   },
   "id": "5a486b84e5a1a1a8"
  },
  {
   "cell_type": "code",
   "execution_count": 10,
   "outputs": [],
   "source": [
    "def uniform_epsilon(mult=16807,\n",
    "                        mod=(2**31)-1,\n",
    "                        seed=123456789,\n",
    "                        size=1):\n",
    "    U = np.zeros(size)\n",
    "    x = (seed*mult+1)%mod\n",
    "    U[0] = x/mod\n",
    "    for i in range(1,size):\n",
    "        x = (x*mult+1)%mod\n",
    "        U[i] = x/mod\n",
    "    return U[np.random.rand(0, size)]"
   ],
   "metadata": {
    "collapsed": false,
    "ExecuteTime": {
     "end_time": "2023-09-09T11:21:22.141033500Z",
     "start_time": "2023-09-09T11:21:22.098459600Z"
    }
   },
   "id": "45fbba1a58cd5db4"
  },
  {
   "cell_type": "markdown",
   "source": [
    "Нормальное распределение ошибки"
   ],
   "metadata": {
    "collapsed": false
   },
   "id": "b7cbf5798bfb6bbe"
  },
  {
   "cell_type": "code",
   "execution_count": null,
   "outputs": [],
   "source": [],
   "metadata": {
    "collapsed": false
   },
   "id": "6fd6a18a79c24fe8"
  },
  {
   "cell_type": "markdown",
   "source": [
    "Генерация случайно ошибки"
   ],
   "metadata": {
    "collapsed": false
   },
   "id": "9441daf14b8f7ad5"
  },
  {
   "cell_type": "code",
   "execution_count": 5,
   "outputs": [],
   "source": [
    "def error(x):\n",
    "    return func(x) + uniform_epsilon()"
   ],
   "metadata": {
    "collapsed": false,
    "ExecuteTime": {
     "end_time": "2023-09-09T11:16:41.881339800Z",
     "start_time": "2023-09-09T11:16:41.869340400Z"
    }
   },
   "id": "178e524a2993c6a7"
  },
  {
   "cell_type": "code",
   "execution_count": 11,
   "outputs": [
    {
     "ename": "IndexError",
     "evalue": "arrays used as indices must be of integer (or boolean) type",
     "output_type": "error",
     "traceback": [
      "\u001B[1;31m---------------------------------------------------------------------------\u001B[0m",
      "\u001B[1;31mIndexError\u001B[0m                                Traceback (most recent call last)",
      "Input \u001B[1;32mIn [11]\u001B[0m, in \u001B[0;36m<cell line: 1>\u001B[1;34m()\u001B[0m\n\u001B[1;32m----> 1\u001B[0m \u001B[38;5;28mprint\u001B[39m(\u001B[43muniform_epsilon\u001B[49m\u001B[43m(\u001B[49m\u001B[43m)\u001B[49m)\n",
      "Input \u001B[1;32mIn [10]\u001B[0m, in \u001B[0;36muniform_epsilon\u001B[1;34m(mult, mod, seed, size)\u001B[0m\n\u001B[0;32m      9\u001B[0m     x \u001B[38;5;241m=\u001B[39m (x\u001B[38;5;241m*\u001B[39mmult\u001B[38;5;241m+\u001B[39m\u001B[38;5;241m1\u001B[39m)\u001B[38;5;241m%\u001B[39mmod\n\u001B[0;32m     10\u001B[0m     U[i] \u001B[38;5;241m=\u001B[39m x\u001B[38;5;241m/\u001B[39mmod\n\u001B[1;32m---> 11\u001B[0m \u001B[38;5;28;01mreturn\u001B[39;00m \u001B[43mU\u001B[49m\u001B[43m[\u001B[49m\u001B[43mnp\u001B[49m\u001B[38;5;241;43m.\u001B[39;49m\u001B[43mrandom\u001B[49m\u001B[38;5;241;43m.\u001B[39;49m\u001B[43mrand\u001B[49m\u001B[43m(\u001B[49m\u001B[38;5;241;43m0\u001B[39;49m\u001B[43m,\u001B[49m\u001B[43m \u001B[49m\u001B[43msize\u001B[49m\u001B[43m)\u001B[49m\u001B[43m]\u001B[49m\n",
      "\u001B[1;31mIndexError\u001B[0m: arrays used as indices must be of integer (or boolean) type"
     ]
    }
   ],
   "source": [
    "print(uniform_epsilon())"
   ],
   "metadata": {
    "collapsed": false,
    "ExecuteTime": {
     "end_time": "2023-09-09T11:21:24.466179900Z",
     "start_time": "2023-09-09T11:21:24.433177Z"
    }
   },
   "id": "75eaa95bfe4a1985"
  }
 ],
 "metadata": {
  "kernelspec": {
   "display_name": "Python 3",
   "language": "python",
   "name": "python3"
  },
  "language_info": {
   "codemirror_mode": {
    "name": "ipython",
    "version": 2
   },
   "file_extension": ".py",
   "mimetype": "text/x-python",
   "name": "python",
   "nbconvert_exporter": "python",
   "pygments_lexer": "ipython2",
   "version": "2.7.6"
  }
 },
 "nbformat": 4,
 "nbformat_minor": 5
}
