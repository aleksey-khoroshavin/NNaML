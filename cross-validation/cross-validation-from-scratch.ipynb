{
 "cells": [
  {
   "cell_type": "markdown",
   "source": [
    "# Полиномиальная регрессия. Кросс-валидация."
   ],
   "metadata": {
    "collapsed": false
   },
   "id": "77c4a23bdb08558e"
  },
  {
   "cell_type": "code",
   "execution_count": null,
   "id": "initial_id",
   "metadata": {
    "collapsed": true
   },
   "outputs": [],
   "source": [
    "import numpy as np\n",
    "import random\n",
    "from matplotlib import pyplot as plt\n",
    "\n",
    "from sklearn.metrics import mean_squared_error\n",
    "from sklearn.metrics import mean_absolute_error"
   ]
  },
  {
   "cell_type": "markdown",
   "source": [
    "Функции для распознавания"
   ],
   "metadata": {
    "collapsed": false
   },
   "id": "65fdf1fe54e0104e"
  },
  {
   "cell_type": "code",
   "execution_count": null,
   "outputs": [],
   "source": [
    "def func(x):\n",
    "    return np.cos(2 * np.pi * x)\n",
    "    # return 5 * (x ** 3) + x ** 2 + 5\n",
    "    # return np.sin(2 * np.pi * x) ** 2\n",
    "    # return (x ** 5) - 2 * x ** 3 + 1"
   ],
   "metadata": {
    "collapsed": false
   },
   "id": "84c08ed82df1cf54"
  },
  {
   "cell_type": "markdown",
   "source": [
    "Функция для построения полинома"
   ],
   "metadata": {
    "collapsed": false
   },
   "id": "e95b3d50fed79efc"
  },
  {
   "cell_type": "code",
   "execution_count": null,
   "outputs": [],
   "source": [
    "def polynom(x, w):\n",
    "    y = 0\n",
    "    for i in range(len(w)):\n",
    "        y += w[i] * (x ** i)\n",
    "    return y"
   ],
   "metadata": {
    "collapsed": false
   },
   "id": "685eb12aebf1580e"
  },
  {
   "cell_type": "markdown",
   "source": [
    "Равномерное распределение ошибки"
   ],
   "metadata": {
    "collapsed": false
   },
   "id": "5a486b84e5a1a1a8"
  },
  {
   "cell_type": "code",
   "execution_count": null,
   "outputs": [],
   "source": [
    "def uniform_epsilon():\n",
    "    return random.uniform(-0.3, 0.3)"
   ],
   "metadata": {
    "collapsed": false
   },
   "id": "45fbba1a58cd5db4"
  },
  {
   "cell_type": "markdown",
   "source": [
    "Генерация нормально распределенной величины\n",
    "\n",
    "<img src=\"img_2.png\">"
   ],
   "metadata": {
    "collapsed": false
   },
   "id": "b7cbf5798bfb6bbe"
  },
  {
   "cell_type": "code",
   "execution_count": null,
   "outputs": [],
   "source": [
    "def normal_epsilon(mu=0.0, sigma=0.3, n = 12):\n",
    "    Hi_array = np.random.uniform(0,1,n)\n",
    "    # print(Hi_array)\n",
    "    Sn = np.sum(Hi_array)\n",
    "    # print(Sn)\n",
    "    nu = (Sn - (n/2))/(np.sqrt(n/12))\n",
    "    # print(nu)\n",
    "    epsilon = mu + nu*sigma\n",
    "    # print(epsilon)\n",
    "    \n",
    "    return epsilon\n",
    "    "
   ],
   "metadata": {
    "collapsed": false
   },
   "id": "6fd6a18a79c24fe8"
  },
  {
   "cell_type": "markdown",
   "source": [
    "Генерация случайно ошибки"
   ],
   "metadata": {
    "collapsed": false
   },
   "id": "9441daf14b8f7ad5"
  },
  {
   "cell_type": "code",
   "execution_count": null,
   "outputs": [],
   "source": [
    "def error_uniform(x):\n",
    "    return func(x) + uniform_epsilon()"
   ],
   "metadata": {
    "collapsed": false
   },
   "id": "178e524a2993c6a7"
  },
  {
   "cell_type": "code",
   "execution_count": null,
   "outputs": [],
   "source": [
    "def error_normal(x):\n",
    "    return func(x) + normal_epsilon()"
   ],
   "metadata": {
    "collapsed": false
   },
   "id": "49968b13b430d50"
  },
  {
   "cell_type": "markdown",
   "source": [
    "Пример равномерно распределенной случайной величины"
   ],
   "metadata": {
    "collapsed": false
   },
   "id": "28dad4d8ec2c395b"
  },
  {
   "cell_type": "code",
   "execution_count": null,
   "outputs": [],
   "source": [
    "print(uniform_epsilon())"
   ],
   "metadata": {
    "collapsed": false
   },
   "id": "75eaa95bfe4a1985"
  },
  {
   "cell_type": "markdown",
   "source": [
    "Пример нормально распределенной случайно величины"
   ],
   "metadata": {
    "collapsed": false
   },
   "id": "75012778bf8b6c29"
  },
  {
   "cell_type": "code",
   "execution_count": null,
   "outputs": [],
   "source": [
    "print(normal_epsilon())"
   ],
   "metadata": {
    "collapsed": false
   },
   "id": "84e542ddea270f2a"
  },
  {
   "cell_type": "markdown",
   "source": [
    "Генерация точек функциональной зависимости для обучения"
   ],
   "metadata": {
    "collapsed": false
   },
   "id": "d001747bae1fedf2"
  },
  {
   "cell_type": "code",
   "execution_count": null,
   "outputs": [],
   "source": [
    "def gen(n, error_func, proportion=0.8):\n",
    "    x = np.sort(np.random.uniform(0, 1., n))\n",
    "    set_size = len(x)\n",
    "    training_size = int(set_size * proportion)\n",
    "\n",
    "    x_training = x[:training_size+1]\n",
    "    y_training = np.array(list(map(error_func, x_training)))\n",
    "\n",
    "    x_test = x[training_size+1:]\n",
    "    y_test = np.array(list(map(error_func, x_test)))\n",
    "\n",
    "    return x_training, y_training, x_test, y_test"
   ],
   "metadata": {
    "collapsed": false
   },
   "id": "87f9bbf29257c27b"
  },
  {
   "cell_type": "markdown",
   "source": [
    "Генерация точек для кросс-валидации"
   ],
   "metadata": {
    "collapsed": false
   },
   "id": "dff4d6dd8881d7ee"
  },
  {
   "cell_type": "code",
   "execution_count": null,
   "outputs": [],
   "source": [
    "def gen_cross_validation(error_func, k):\n",
    "    x_training = []\n",
    "    y_training = []\n",
    "    \n",
    "    for i_k in range(0, k):\n",
    "        x_training_k = np.sort(np.random.uniform(0 + i_k*1/k, 0 + (i_k+1)*1/k, k))\n",
    "        y_training_k = np.array(list(map(error_func, x_training_k)))\n",
    "        x_training.append(x_training_k)\n",
    "        y_training.append(y_training_k)\n",
    "\n",
    "    return x_training, y_training"
   ],
   "metadata": {
    "collapsed": false
   },
   "id": "a4b5887048383f6f"
  },
  {
   "cell_type": "markdown",
   "source": [
    "Поиск весов для регуляризации\n",
    "\n",
    "<img src=\"img.png\">"
   ],
   "metadata": {
    "collapsed": false
   },
   "id": "13e828581676f8e5"
  },
  {
   "cell_type": "code",
   "execution_count": null,
   "outputs": [],
   "source": [
    "def calculate_weights(x, y, M, l):\n",
    "    A = []\n",
    "    b = []\n",
    "\n",
    "    for i in range(M + 1):\n",
    "        b.append(np.sum((x ** i) * y))\n",
    "        a = []\n",
    "\n",
    "        for j in range(M + 1):\n",
    "            a.append(np.sum(x ** (i + j)))\n",
    "            if i == j:\n",
    "                a[j] += l\n",
    "        A.append(a)\n",
    "\n",
    "    return np.linalg.solve(A, b)"
   ],
   "metadata": {
    "collapsed": false
   },
   "id": "ad99e0107912e62"
  },
  {
   "cell_type": "markdown",
   "source": [
    "Ошибка для кросс-валидации\n",
    "\n",
    "<img src=\"img_1.png\">"
   ],
   "metadata": {
    "collapsed": false
   },
   "id": "ac07c57fbe45d9c4"
  },
  {
   "cell_type": "code",
   "execution_count": null,
   "outputs": [],
   "source": [
    "def err_l(y, f, w, l):\n",
    "    return (1/2) * np.sum((y - f) ** 2) + (l/2) * np.sum(np.abs(w))"
   ],
   "metadata": {
    "collapsed": false
   },
   "id": "5e484ff4b550d0cf"
  },
  {
   "cell_type": "markdown",
   "source": [
    "Генерация выборки"
   ],
   "metadata": {
    "collapsed": false
   },
   "id": "1cc0c8fd018f2947"
  },
  {
   "cell_type": "code",
   "execution_count": null,
   "outputs": [],
   "source": [
    "# N = 20\n",
    "# X_train, y_train, X_test, y_test = gen(N, error_uniform)\n",
    "X_train, y_train = gen_cross_validation(error_uniform, 5)"
   ],
   "metadata": {
    "collapsed": false
   },
   "id": "e25b7b6f8a1d9745"
  },
  {
   "cell_type": "code",
   "execution_count": null,
   "outputs": [],
   "source": [
    "# z = np.linspace(0., 1., 100)\n",
    "# plt.title('Изначальная функция со случайными ошибками')\n",
    "# plt.plot(z, func(z), 'b-')\n",
    "# plt.plot(X_train, y_train, 'ro')\n",
    "# plt.plot(X_test, y_test, 'ro')\n",
    "# plt.xlim(0, 1)\n",
    "# plt.ylim(-2, 2)\n",
    "# plt.show()"
   ],
   "metadata": {
    "collapsed": false
   },
   "id": "f07d4632c16c3cf9"
  },
  {
   "cell_type": "code",
   "execution_count": null,
   "outputs": [],
   "source": [
    "# results = []\n",
    "# for l in np.arange(0, 0.03, 0.001):\n",
    "#     for j in range(0, 16):\n",
    "#         w = calculate_weights(X_train, y_train, j, l)\n",
    "#         predict = np.array(list(map(lambda x: polynom(x=x, w=w), X_test)))\n",
    "#         mse = mean_squared_error(y_test, predict)\n",
    "#         mae = mean_absolute_error(y_test, predict)\n",
    "#         results.append((j, l, mse, mae, err_l(y_test, predict, w, l)))\n",
    "# \n",
    "#         plt.title('M = ' + str(j) + ';\\n l = ' + str(l) + ';\\n MSE = ' + str(mse) + ';\\n MAE = ' + str(mae) + ';\\n E_l = ' + str(err_l(y_test, predict, w, l)))\n",
    "# \n",
    "#         plt.plot(z, func(z), 'b-')\n",
    "#         plt.plot(z, polynom(z, w), 'g-')\n",
    "#         plt.plot(X_train, y_train, 'ro')\n",
    "#         plt.plot(X_test, y_test, 'ro')\n",
    "#         plt.xlim(0, 1)\n",
    "#         plt.ylim(-2, 2)\n",
    "#         plt.show()"
   ],
   "metadata": {
    "collapsed": false
   },
   "id": "216db52e5af81fce"
  },
  {
   "cell_type": "code",
   "execution_count": null,
   "outputs": [],
   "source": [
    "results = []\n",
    "k = 5\n",
    "\n",
    "z = np.linspace(0., 1., 100)\n",
    "plt.title('Изначальная функция со случайными ошибками')\n",
    "plt.plot(z, func(z), 'b-')\n",
    "plt.plot(np.concatenate(X_train), np.concatenate(y_train), 'ro')\n",
    "plt.xlim(0, 1)\n",
    "plt.ylim(-2, 2)\n",
    "plt.show()\n",
    "\n",
    "for l in np.arange(0, 0.03, 0.004):\n",
    "    for j in range(0, 16):\n",
    "        mse_avg = []\n",
    "        mae_avg = []\n",
    "        err_l_avg = []\n",
    "        for i in range(0, k):\n",
    "\n",
    "            #Выбираем тестовые выборки\n",
    "            X_test_k = X_train[(k-1)-i]\n",
    "            y_test_k = y_train[(k-1)-i]\n",
    "\n",
    "            #Исключаем из тренировочных выборок\n",
    "            X_train_k = np.concatenate([np.delete(X_train, (k-1)-i)])\n",
    "            y_train_k = np.concatenate([np.delete(y_train, (k-1)-i)])\n",
    "\n",
    "            w = calculate_weights(X_train_k, y_train_k, j, l)\n",
    "            predict = np.array(list(map(lambda x: polynom(x=x, w=w), X_test_k)))\n",
    "\n",
    "            mse = mean_squared_error(y_test_k, predict)\n",
    "            mse_avg.append(mse)\n",
    "\n",
    "            mae = mean_absolute_error(y_test_k, predict)\n",
    "            mae_avg.append(mae)\n",
    "\n",
    "            err_lambda = err_l(y_test_k, predict, w, l)\n",
    "            err_l_avg.append(err_lambda)\n",
    "\n",
    "            plt.title('M = ' + str(j) + ';\\n l = ' + str(l) + ';\\n MSE = ' + str(mse) + ';\\n MAE = ' + str(mae) + ';\\n E_l = ' + str(err_lambda) + ';\\n k = ' + str(i))\n",
    "\n",
    "            plt.plot(z, func(z), 'b-')\n",
    "            plt.plot(z, polynom(z, w), 'g-')\n",
    "            plt.plot(X_train_k, y_train_k, 'ro')\n",
    "            plt.plot(X_test_k, y_test_k, 'yo')\n",
    "            plt.xlim(0, 1)\n",
    "            plt.ylim(-2, 2)\n",
    "            plt.show()\n",
    "\n",
    "        results.append((j, l, np.average(mse_avg), np.average(mae_avg), np.average(err_l_avg)))"
   ],
   "metadata": {
    "collapsed": false
   },
   "id": "f02643c792442539"
  },
  {
   "cell_type": "markdown",
   "source": [
    "Лучшие параметры регрессии M и l"
   ],
   "metadata": {
    "collapsed": false
   },
   "id": "55f392f22019a7d6"
  },
  {
   "cell_type": "markdown",
   "source": [
    "Для серднеквадратичной ошибки"
   ],
   "metadata": {
    "collapsed": false
   },
   "id": "4ac719f7455d6016"
  },
  {
   "cell_type": "code",
   "execution_count": null,
   "outputs": [],
   "source": [
    "for t in (sorted(results, key=lambda t: t[2])):\n",
    "    print('Degree = ', t[0], ' L = ', t[1], ' MSE = ', t[2])"
   ],
   "metadata": {
    "collapsed": false
   },
   "id": "9000e0a801b30fe"
  },
  {
   "cell_type": "markdown",
   "source": [
    "Для абсолютной ошибки"
   ],
   "metadata": {
    "collapsed": false
   },
   "id": "ae1547ef82c42064"
  },
  {
   "cell_type": "code",
   "execution_count": null,
   "outputs": [],
   "source": [
    "for t in (sorted(results, key=lambda t: t[3])):\n",
    "    print('Degree = ', t[0], ' L = ', t[1], 'MAE = ', t[3])"
   ],
   "metadata": {
    "collapsed": false
   },
   "id": "d2b2a44eb6be91fb"
  },
  {
   "cell_type": "markdown",
   "source": [
    "Для ошибки кросс-валидации"
   ],
   "metadata": {
    "collapsed": false
   },
   "id": "867c7f16961524c3"
  },
  {
   "cell_type": "code",
   "execution_count": null,
   "outputs": [],
   "source": [
    "for t in (sorted(results, key=lambda t: t[4])):\n",
    "    print('Degree = ', t[0], ' L = ', t[1], 'E_l = ', t[4])"
   ],
   "metadata": {
    "collapsed": false
   },
   "id": "19fa379e1f16b77a"
  },
  {
   "cell_type": "markdown",
   "source": [
    "Генерация нормально распределенной ошибки"
   ],
   "metadata": {
    "collapsed": false
   },
   "id": "d6f4375583d4025a"
  },
  {
   "cell_type": "code",
   "execution_count": null,
   "outputs": [],
   "source": [
    "# N = 20\n",
    "# X_train, y_train, X_test, y_test = gen(N, error_normal)\n",
    "X_train, y_train = gen_cross_validation(error_normal, 5)"
   ],
   "metadata": {
    "collapsed": false
   },
   "id": "93198af1fb60633a"
  },
  {
   "cell_type": "code",
   "execution_count": null,
   "outputs": [],
   "source": [
    "# z = np.linspace(0., 1., 100)\n",
    "# plt.title('Изначальная функция со случайными ошибками')\n",
    "# plt.plot(z, func(z), 'b-')\n",
    "# plt.plot(X_train, y_train, 'ro')\n",
    "# plt.plot(X_test, y_test, 'ro')\n",
    "# plt.xlim(0, 1)\n",
    "# plt.ylim(-2, 2)\n",
    "# plt.show()"
   ],
   "metadata": {
    "collapsed": false
   },
   "id": "b05249fe7732e5ce"
  },
  {
   "cell_type": "code",
   "execution_count": null,
   "outputs": [],
   "source": [
    "# results = []\n",
    "# for l in np.arange(0, 0.03, 0.001):\n",
    "#     for j in range(1, 15, 1):\n",
    "#         w = calculate_weights(X_train, y_train, j, l)\n",
    "#         predict = np.array(list(map(lambda x: polynom(x=x, w=w), X_test)))\n",
    "#         mse = mean_squared_error(y_test, predict)\n",
    "#         mae = mean_absolute_error(y_test, predict)\n",
    "#         results.append((j, l, mse, mae, err_l(y_test, predict, w, l)))\n",
    "# \n",
    "#         plt.title('M = ' + str(j) + ';\\n l = ' + str(l) + ';\\n MSE = ' + str(mse) + ';\\n MAE = ' + str(mae) + ';\\n E_l = ' + str(err_l(y_test, predict, w, l)))\n",
    "#         plt.plot(z, func(z), 'b-')\n",
    "#         plt.plot(z, polynom(z, w), 'g-')\n",
    "#         plt.plot(X_train, y_train, 'ro')\n",
    "#         plt.plot(X_test, y_test, 'ro')\n",
    "#         plt.xlim(0, 1)\n",
    "#         plt.ylim(-2, 2)\n",
    "#         plt.show()"
   ],
   "metadata": {
    "collapsed": false
   },
   "id": "ea8a73cf1bfd6062"
  },
  {
   "cell_type": "code",
   "execution_count": null,
   "outputs": [],
   "source": [
    "results = []\n",
    "k = 5\n",
    "\n",
    "z = np.linspace(0., 1., 100)\n",
    "plt.title('Изначальная функция со случайными ошибками')\n",
    "plt.plot(z, func(z), 'b-')\n",
    "plt.plot(np.concatenate(X_train), np.concatenate(y_train), 'ro')\n",
    "plt.xlim(0, 1)\n",
    "plt.ylim(-2, 2)\n",
    "plt.show()\n",
    "\n",
    "for l in np.arange(0, 0.03, 0.004):\n",
    "    for j in range(0, 16):\n",
    "        mse_avg = []\n",
    "        mae_avg = []\n",
    "        err_l_avg = []\n",
    "        for i in range(0, k):\n",
    "\n",
    "            #Выбираем тестовые выборки\n",
    "            X_test_k = X_train[(k-1)-i]\n",
    "            y_test_k = y_train[(k-1)-i]\n",
    "\n",
    "            #Исключаем из тренировочных выборок\n",
    "            X_train_k = np.concatenate([np.delete(X_train, (k-1)-i)])\n",
    "            y_train_k = np.concatenate([np.delete(y_train, (k-1)-i)])\n",
    "\n",
    "            w = calculate_weights(X_train_k, y_train_k, j, l)\n",
    "            predict = np.array(list(map(lambda x: polynom(x=x, w=w), X_test_k)))\n",
    "\n",
    "            mse = mean_squared_error(y_test_k, predict)\n",
    "            mse_avg.append(mse)\n",
    "\n",
    "            mae = mean_absolute_error(y_test_k, predict)\n",
    "            mae_avg.append(mae)\n",
    "\n",
    "            err_lambda = err_l(y_test_k, predict, w, l)\n",
    "            err_l_avg.append(err_lambda)\n",
    "\n",
    "            plt.title('M = ' + str(j) + ';\\n l = ' + str(l) + ';\\n MSE = ' + str(mse) + ';\\n MAE = ' + str(mae) + ';\\n E_l = ' + str(err_lambda) + ';\\n k = ' + str(i))\n",
    "\n",
    "            plt.plot(z, func(z), 'b-')\n",
    "            plt.plot(z, polynom(z, w), 'g-')\n",
    "            plt.plot(X_train_k, y_train_k, 'ro')\n",
    "            plt.plot(X_test_k, y_test_k, 'yo')\n",
    "            plt.xlim(0, 1)\n",
    "            plt.ylim(-2, 2)\n",
    "            plt.show()\n",
    "\n",
    "        results.append((j, l, np.average(mse_avg), np.average(mae_avg), np.average(err_l_avg)))"
   ],
   "metadata": {
    "collapsed": false
   },
   "id": "9f9c07b5e6306a08"
  },
  {
   "cell_type": "markdown",
   "source": [
    "Лучшие параметры M и l"
   ],
   "metadata": {
    "collapsed": false
   },
   "id": "e0904c3a0b98effa"
  },
  {
   "cell_type": "markdown",
   "source": [
    "Для серднеквадратичной ошибки"
   ],
   "metadata": {
    "collapsed": false
   },
   "id": "51fb77dfe634bba6"
  },
  {
   "cell_type": "code",
   "execution_count": null,
   "outputs": [],
   "source": [
    "for t in (sorted(results, key=lambda t: t[2])):\n",
    "    print('Degree = ', t[0], ' L = ', t[1], ' MSE = ', t[2])"
   ],
   "metadata": {
    "collapsed": false
   },
   "id": "103f1688f211d318"
  },
  {
   "cell_type": "markdown",
   "source": [
    "Для абсолютной ошибки"
   ],
   "metadata": {
    "collapsed": false
   },
   "id": "4f76d78447eae940"
  },
  {
   "cell_type": "code",
   "execution_count": null,
   "outputs": [],
   "source": [
    "for t in (sorted(results, key=lambda t: t[3])):\n",
    "    print('Degree = ', t[0], ' L = ', t[1], 'MAE = ', t[3])"
   ],
   "metadata": {
    "collapsed": false
   },
   "id": "abd275be0feaacca"
  },
  {
   "cell_type": "markdown",
   "source": [
    "Для ошибки кросс-валидации"
   ],
   "metadata": {
    "collapsed": false
   },
   "id": "e42630df4e8a12ad"
  },
  {
   "cell_type": "code",
   "execution_count": null,
   "outputs": [],
   "source": [
    "for t in (sorted(results, key=lambda t: t[4])):\n",
    "    print('Degree = ', t[0], ' L = ', t[1], 'E_l = ', t[4])"
   ],
   "metadata": {
    "collapsed": false
   },
   "id": "398a3b495058bb6c"
  }
 ],
 "metadata": {
  "kernelspec": {
   "display_name": "Python 3",
   "language": "python",
   "name": "python3"
  },
  "language_info": {
   "codemirror_mode": {
    "name": "ipython",
    "version": 2
   },
   "file_extension": ".py",
   "mimetype": "text/x-python",
   "name": "python",
   "nbconvert_exporter": "python",
   "pygments_lexer": "ipython2",
   "version": "2.7.6"
  }
 },
 "nbformat": 4,
 "nbformat_minor": 5
}
