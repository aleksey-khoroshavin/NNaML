{
 "cells": [
  {
   "cell_type": "code",
   "execution_count": 1,
   "id": "initial_id",
   "metadata": {
    "collapsed": true,
    "ExecuteTime": {
     "end_time": "2023-12-16T13:35:55.449954500Z",
     "start_time": "2023-12-16T13:35:51.940898800Z"
    }
   },
   "outputs": [],
   "source": [
    "import pandas as pd\n",
    "import matplotlib.pyplot as plt\n",
    "import seaborn as sns\n",
    "from sklearn.model_selection import train_test_split\n",
    "from sklearn.preprocessing import LabelEncoder\n",
    "from keras.models import Model\n",
    "from keras.layers import Activation, Dense, Dropout, Input, Embedding, LSTM\n",
    "from keras.preprocessing.text import Tokenizer\n",
    "from keras.preprocessing import sequence\n",
    "%matplotlib inline"
   ]
  },
  {
   "cell_type": "code",
   "execution_count": 3,
   "outputs": [
    {
     "data": {
      "text/plain": "     v1                                                 v2 Unnamed: 2  \\\n0   ham  Go until jurong point, crazy.. Available only ...        NaN   \n1   ham                      Ok lar... Joking wif u oni...        NaN   \n2  spam  Free entry in 2 a wkly comp to win FA Cup fina...        NaN   \n3   ham  U dun say so early hor... U c already then say...        NaN   \n4   ham  Nah I don't think he goes to usf, he lives aro...        NaN   \n\n  Unnamed: 3 Unnamed: 4  \n0        NaN        NaN  \n1        NaN        NaN  \n2        NaN        NaN  \n3        NaN        NaN  \n4        NaN        NaN  ",
      "text/html": "<div>\n<style scoped>\n    .dataframe tbody tr th:only-of-type {\n        vertical-align: middle;\n    }\n\n    .dataframe tbody tr th {\n        vertical-align: top;\n    }\n\n    .dataframe thead th {\n        text-align: right;\n    }\n</style>\n<table border=\"1\" class=\"dataframe\">\n  <thead>\n    <tr style=\"text-align: right;\">\n      <th></th>\n      <th>v1</th>\n      <th>v2</th>\n      <th>Unnamed: 2</th>\n      <th>Unnamed: 3</th>\n      <th>Unnamed: 4</th>\n    </tr>\n  </thead>\n  <tbody>\n    <tr>\n      <th>0</th>\n      <td>ham</td>\n      <td>Go until jurong point, crazy.. Available only ...</td>\n      <td>NaN</td>\n      <td>NaN</td>\n      <td>NaN</td>\n    </tr>\n    <tr>\n      <th>1</th>\n      <td>ham</td>\n      <td>Ok lar... Joking wif u oni...</td>\n      <td>NaN</td>\n      <td>NaN</td>\n      <td>NaN</td>\n    </tr>\n    <tr>\n      <th>2</th>\n      <td>spam</td>\n      <td>Free entry in 2 a wkly comp to win FA Cup fina...</td>\n      <td>NaN</td>\n      <td>NaN</td>\n      <td>NaN</td>\n    </tr>\n    <tr>\n      <th>3</th>\n      <td>ham</td>\n      <td>U dun say so early hor... U c already then say...</td>\n      <td>NaN</td>\n      <td>NaN</td>\n      <td>NaN</td>\n    </tr>\n    <tr>\n      <th>4</th>\n      <td>ham</td>\n      <td>Nah I don't think he goes to usf, he lives aro...</td>\n      <td>NaN</td>\n      <td>NaN</td>\n      <td>NaN</td>\n    </tr>\n  </tbody>\n</table>\n</div>"
     },
     "execution_count": 3,
     "metadata": {},
     "output_type": "execute_result"
    }
   ],
   "source": [
    "df = pd.read_csv('spam.csv',delimiter=',',encoding='latin-1')\n",
    "df.head()"
   ],
   "metadata": {
    "collapsed": false,
    "ExecuteTime": {
     "end_time": "2023-12-16T13:36:13.895096600Z",
     "start_time": "2023-12-16T13:36:13.823077Z"
    }
   },
   "id": "286e7759abe06019"
  },
  {
   "cell_type": "code",
   "execution_count": 4,
   "outputs": [
    {
     "name": "stdout",
     "output_type": "stream",
     "text": [
      "<class 'pandas.core.frame.DataFrame'>\n",
      "RangeIndex: 5572 entries, 0 to 5571\n",
      "Data columns (total 2 columns):\n",
      " #   Column  Non-Null Count  Dtype \n",
      "---  ------  --------------  ----- \n",
      " 0   v1      5572 non-null   object\n",
      " 1   v2      5572 non-null   object\n",
      "dtypes: object(2)\n",
      "memory usage: 87.2+ KB\n"
     ]
    }
   ],
   "source": [
    "df.drop(['Unnamed: 2', 'Unnamed: 3', 'Unnamed: 4'],axis=1,inplace=True)\n",
    "df.info()"
   ],
   "metadata": {
    "collapsed": false,
    "ExecuteTime": {
     "end_time": "2023-12-16T13:36:39.740868200Z",
     "start_time": "2023-12-16T13:36:39.711856900Z"
    }
   },
   "id": "c040a78fb9a51960"
  },
  {
   "cell_type": "code",
   "execution_count": 12,
   "outputs": [
    {
     "data": {
      "text/plain": "Text(0.5, 1.0, 'Number of ham and spam messages')"
     },
     "execution_count": 12,
     "metadata": {},
     "output_type": "execute_result"
    },
    {
     "data": {
      "text/plain": "<Figure size 640x480 with 1 Axes>",
      "image/png": "[encoded data removed]"
     },
     "metadata": {},
     "output_type": "display_data"
    }
   ],
   "source": [
    "sns.countplot(df.v1)\n",
    "plt.xlabel('Label')\n",
    "plt.title('Number of ham and spam messages')"
   ],
   "metadata": {
    "collapsed": false,
    "ExecuteTime": {
     "end_time": "2023-12-16T13:42:27.053624Z",
     "start_time": "2023-12-16T13:42:26.927219500Z"
    }
   },
   "id": "46dca9db93b2aba8"
  },
  {
   "cell_type": "code",
   "execution_count": 13,
   "outputs": [],
   "source": [
    "X = df.v2\n",
    "Y = df.v1\n",
    "le = LabelEncoder()\n",
    "Y = le.fit_transform(Y)\n",
    "Y = Y.reshape(-1,1)"
   ],
   "metadata": {
    "collapsed": false,
    "ExecuteTime": {
     "end_time": "2023-12-16T13:43:00.523352700Z",
     "start_time": "2023-12-16T13:43:00.512966800Z"
    }
   },
   "id": "f2807dc713c04b26"
  },
  {
   "cell_type": "code",
   "execution_count": 14,
   "outputs": [
    {
     "data": {
      "text/plain": "array([[0],\n       [0],\n       [1],\n       ...,\n       [0],\n       [0],\n       [0]])"
     },
     "execution_count": 14,
     "metadata": {},
     "output_type": "execute_result"
    }
   ],
   "source": [
    "Y"
   ],
   "metadata": {
    "collapsed": false,
    "ExecuteTime": {
     "end_time": "2023-12-16T13:43:05.159374Z",
     "start_time": "2023-12-16T13:43:05.154504900Z"
    }
   },
   "id": "bed617ddd07c500f"
  },
  {
   "cell_type": "code",
   "execution_count": 15,
   "outputs": [],
   "source": [
    "X_train,X_test,Y_train,Y_test = train_test_split(X,Y,test_size=0.2)"
   ],
   "metadata": {
    "collapsed": false,
    "ExecuteTime": {
     "end_time": "2023-12-16T13:43:21.677807700Z",
     "start_time": "2023-12-16T13:43:21.648483600Z"
    }
   },
   "id": "4e103ef871b10bd0"
  },
  {
   "cell_type": "code",
   "execution_count": 16,
   "outputs": [],
   "source": [
    "max_words = 1000\n",
    "max_len = 150\n",
    "tok = Tokenizer(num_words=max_words)\n",
    "tok.fit_on_texts(X_train)\n",
    "sequences = tok.texts_to_sequences(X_train)\n",
    "sequences_matrix = sequence.pad_sequences(sequences,maxlen=max_len)"
   ],
   "metadata": {
    "collapsed": false,
    "ExecuteTime": {
     "end_time": "2023-12-16T13:43:27.612957100Z",
     "start_time": "2023-12-16T13:43:27.603996900Z"
    }
   },
   "id": "65df1514a66ccd34"
  },
  {
   "cell_type": "code",
   "execution_count": 17,
   "outputs": [
    {
     "data": {
      "text/plain": "[39,\n 359,\n 209,\n 162,\n 1,\n 138,\n 122,\n 451,\n 700,\n 18,\n 5,\n 417,\n 173,\n 107,\n 17,\n 360,\n 223,\n 25,\n 1,\n 97,\n 1,\n 348,\n 572,\n 40,\n 63]"
     },
     "execution_count": 17,
     "metadata": {},
     "output_type": "execute_result"
    }
   ],
   "source": [
    "sequences[0]"
   ],
   "metadata": {
    "collapsed": false,
    "ExecuteTime": {
     "end_time": "2023-12-16T13:43:33.060802200Z",
     "start_time": "2023-12-16T13:43:33.055760500Z"
    }
   },
   "id": "e79f87e3303b2102"
  },
  {
   "cell_type": "code",
   "execution_count": 18,
   "outputs": [
    {
     "name": "stdout",
     "output_type": "stream",
     "text": [
      "25\n",
      "5\n",
      "3\n",
      "7\n",
      "18\n",
      "26\n",
      "8\n",
      "18\n",
      "18\n",
      "6\n"
     ]
    }
   ],
   "source": [
    "for i in range(10):\n",
    "    print(len(sequences[i]))"
   ],
   "metadata": {
    "collapsed": false,
    "ExecuteTime": {
     "end_time": "2023-12-16T13:43:46.282784700Z",
     "start_time": "2023-12-16T13:43:46.280928600Z"
    }
   },
   "id": "ea97c40284a15f6c"
  },
  {
   "cell_type": "code",
   "execution_count": 19,
   "outputs": [
    {
     "name": "stdout",
     "output_type": "stream",
     "text": [
      "150\n",
      "150\n",
      "150\n",
      "150\n",
      "150\n",
      "150\n",
      "150\n",
      "150\n",
      "150\n",
      "150\n"
     ]
    }
   ],
   "source": [
    "for i in range(10):\n",
    "    print(len(sequences_matrix[i]))"
   ],
   "metadata": {
    "collapsed": false,
    "ExecuteTime": {
     "end_time": "2023-12-16T13:43:58.221203500Z",
     "start_time": "2023-12-16T13:43:58.208005200Z"
    }
   },
   "id": "3ab06b040d270a4f"
  },
  {
   "cell_type": "code",
   "execution_count": 20,
   "outputs": [
    {
     "data": {
      "text/plain": "array([  0,   0,   0,   0,   0,   0,   0,   0,   0,   0,   0,   0,   0,\n         0,   0,   0,   0,   0,   0,   0,   0,   0,   0,   0,   0,   0,\n         0,   0,   0,   0,   0,   0,   0,   0,   0,   0,   0,   0,   0,\n         0,   0,   0,   0,   0,   0,   0,   0,   0,   0,   0,   0,   0,\n         0,   0,   0,   0,   0,   0,   0,   0,   0,   0,   0,   0,   0,\n         0,   0,   0,   0,   0,   0,   0,   0,   0,   0,   0,   0,   0,\n         0,   0,   0,   0,   0,   0,   0,   0,   0,   0,   0,   0,   0,\n         0,   0,   0,   0,   0,   0,   0,   0,   0,   0,   0,   0,   0,\n         0,   0,   0,   0,   0,   0,   0,   0,   0,   0,   0,   0,   0,\n         0,   0,   0,   0,   0,   0,   0,   0,  39, 359, 209, 162,   1,\n       138, 122, 451, 700,  18,   5, 417, 173, 107,  17, 360, 223,  25,\n         1,  97,   1, 348, 572,  40,  63])"
     },
     "execution_count": 20,
     "metadata": {},
     "output_type": "execute_result"
    }
   ],
   "source": [
    "sequences_matrix[0]"
   ],
   "metadata": {
    "collapsed": false,
    "ExecuteTime": {
     "end_time": "2023-12-16T13:44:05.048114800Z",
     "start_time": "2023-12-16T13:44:05.041116700Z"
    }
   },
   "id": "8dcc16b2a6fa7771"
  },
  {
   "cell_type": "code",
   "execution_count": 21,
   "outputs": [
    {
     "data": {
      "text/plain": "150"
     },
     "execution_count": 21,
     "metadata": {},
     "output_type": "execute_result"
    }
   ],
   "source": [
    "len(sequences_matrix[0])"
   ],
   "metadata": {
    "collapsed": false,
    "ExecuteTime": {
     "end_time": "2023-12-16T13:44:17.902436400Z",
     "start_time": "2023-12-16T13:44:17.893436800Z"
    }
   },
   "id": "58292e2197818a70"
  },
  {
   "cell_type": "code",
   "execution_count": 22,
   "outputs": [
    {
     "data": {
      "text/plain": "'Go until jurong point, crazy.. Available only in bugis n great world la e buffet... Cine there got amore wat...'"
     },
     "execution_count": 22,
     "metadata": {},
     "output_type": "execute_result"
    }
   ],
   "source": [
    "X_train[0]"
   ],
   "metadata": {
    "collapsed": false,
    "ExecuteTime": {
     "end_time": "2023-12-16T13:44:22.874068300Z",
     "start_time": "2023-12-16T13:44:22.867069400Z"
    }
   },
   "id": "43e973676d64f06b"
  },
  {
   "cell_type": "code",
   "execution_count": 23,
   "outputs": [],
   "source": [
    "def RNNmodel():\n",
    "    inputs = Input(name='inputs',shape=[max_len])\n",
    "    layer = Embedding(max_words,50,input_length=max_len)(inputs)\n",
    "    layer = LSTM(32)(layer)\n",
    "    layer = Dense(256,name='FC1',activation='relu')(layer)\n",
    "    layer = Activation('relu')(layer)\n",
    "    layer = Dropout(0.5)(layer)\n",
    "    layer = Dense(1,name='out_layer')(layer)\n",
    "    layer = Activation('sigmoid')(layer)\n",
    "    model = Model(inputs=inputs,outputs=layer)\n",
    "    return model"
   ],
   "metadata": {
    "collapsed": false,
    "ExecuteTime": {
     "end_time": "2023-12-16T13:44:30.640390300Z",
     "start_time": "2023-12-16T13:44:30.632391100Z"
    }
   },
   "id": "d62a349fcb04a99f"
  },
  {
   "cell_type": "code",
   "execution_count": 24,
   "outputs": [],
   "source": [
    "import tensorflow as tf"
   ],
   "metadata": {
    "collapsed": false,
    "ExecuteTime": {
     "end_time": "2023-12-16T13:44:44.619137500Z",
     "start_time": "2023-12-16T13:44:44.608979200Z"
    }
   },
   "id": "7897d6c4ca9a2923"
  },
  {
   "cell_type": "code",
   "execution_count": 25,
   "outputs": [
    {
     "name": "stdout",
     "output_type": "stream",
     "text": [
      "Model: \"model\"\n",
      "_________________________________________________________________\n",
      " Layer (type)                Output Shape              Param #   \n",
      "=================================================================\n",
      " inputs (InputLayer)         [(None, 150)]             0         \n",
      "                                                                 \n",
      " embedding (Embedding)       (None, 150, 50)           50000     \n",
      "                                                                 \n",
      " lstm (LSTM)                 (None, 32)                10624     \n",
      "                                                                 \n",
      " FC1 (Dense)                 (None, 256)               8448      \n",
      "                                                                 \n",
      " activation (Activation)     (None, 256)               0         \n",
      "                                                                 \n",
      " dropout (Dropout)           (None, 256)               0         \n",
      "                                                                 \n",
      " out_layer (Dense)           (None, 1)                 257       \n",
      "                                                                 \n",
      " activation_1 (Activation)   (None, 1)                 0         \n",
      "                                                                 \n",
      "=================================================================\n",
      "Total params: 69329 (270.82 KB)\n",
      "Trainable params: 69329 (270.82 KB)\n",
      "Non-trainable params: 0 (0.00 Byte)\n",
      "_________________________________________________________________\n"
     ]
    }
   ],
   "source": [
    "model = RNNmodel()\n",
    "model.summary()\n",
    "model.compile(loss='binary_crossentropy',optimizer='rmsprop',metrics=['accuracy',tf.keras.metrics.Precision()])"
   ],
   "metadata": {
    "collapsed": false,
    "ExecuteTime": {
     "end_time": "2023-12-16T13:44:50.268182400Z",
     "start_time": "2023-12-16T13:44:50.021460500Z"
    }
   },
   "id": "8bb2f93839163fcd"
  },
  {
   "cell_type": "code",
   "execution_count": 26,
   "outputs": [
    {
     "name": "stdout",
     "output_type": "stream",
     "text": [
      "Epoch 1/10\n",
      "28/28 [==============================] - 3s 47ms/step - loss: 0.4377 - accuracy: 0.8438 - precision: 0.1262 - val_loss: 0.2765 - val_accuracy: 0.8531 - val_precision: 0.0000e+00\n",
      "Epoch 2/10\n",
      "28/28 [==============================] - 1s 34ms/step - loss: 0.1830 - accuracy: 0.9425 - precision: 0.9825 - val_loss: 0.1325 - val_accuracy: 0.9630 - val_precision: 0.9804\n",
      "Epoch 3/10\n",
      "28/28 [==============================] - 1s 34ms/step - loss: 0.0849 - accuracy: 0.9795 - precision: 0.9700 - val_loss: 0.0769 - val_accuracy: 0.9742 - val_precision: 0.9655\n",
      "Epoch 4/10\n",
      "28/28 [==============================] - 1s 34ms/step - loss: 0.0550 - accuracy: 0.9860 - precision: 0.9715 - val_loss: 0.0645 - val_accuracy: 0.9798 - val_precision: 0.9669\n",
      "Epoch 5/10\n",
      "28/28 [==============================] - 1s 34ms/step - loss: 0.0416 - accuracy: 0.9896 - precision: 0.9763 - val_loss: 0.0622 - val_accuracy: 0.9776 - val_precision: 0.9664\n",
      "Epoch 6/10\n",
      "28/28 [==============================] - 1s 34ms/step - loss: 0.0347 - accuracy: 0.9916 - precision: 0.9828 - val_loss: 0.0596 - val_accuracy: 0.9809 - val_precision: 0.9672\n",
      "Epoch 7/10\n",
      "28/28 [==============================] - 1s 34ms/step - loss: 0.0298 - accuracy: 0.9927 - precision: 0.9830 - val_loss: 0.0588 - val_accuracy: 0.9787 - val_precision: 0.9667\n",
      "Epoch 8/10\n",
      "28/28 [==============================] - 1s 34ms/step - loss: 0.0222 - accuracy: 0.9952 - precision: 0.9915 - val_loss: 0.0607 - val_accuracy: 0.9787 - val_precision: 0.9590\n",
      "Epoch 9/10\n",
      "28/28 [==============================] - 1s 34ms/step - loss: 0.0186 - accuracy: 0.9950 - precision: 0.9915 - val_loss: 0.0716 - val_accuracy: 0.9809 - val_precision: 0.9831\n",
      "Epoch 10/10\n",
      "28/28 [==============================] - 1s 34ms/step - loss: 0.0168 - accuracy: 0.9950 - precision: 0.9894 - val_loss: 0.0657 - val_accuracy: 0.9798 - val_precision: 0.9748\n"
     ]
    },
    {
     "data": {
      "text/plain": "<keras.src.callbacks.History at 0x218ee3ef490>"
     },
     "execution_count": 26,
     "metadata": {},
     "output_type": "execute_result"
    }
   ],
   "source": [
    "model.fit(sequences_matrix,Y_train,batch_size=128,epochs=10, validation_split=0.2)"
   ],
   "metadata": {
    "collapsed": false,
    "ExecuteTime": {
     "end_time": "2023-12-16T13:45:19.805485600Z",
     "start_time": "2023-12-16T13:45:08.656609900Z"
    }
   },
   "id": "1bdfc149bb930591"
  },
  {
   "cell_type": "code",
   "execution_count": 27,
   "outputs": [],
   "source": [
    "test_sequences = tok.texts_to_sequences(X_test)\n",
    "test_sequences_matrix = sequence.pad_sequences(test_sequences,maxlen=max_len)"
   ],
   "metadata": {
    "collapsed": false,
    "ExecuteTime": {
     "end_time": "2023-12-16T13:45:22.906986Z",
     "start_time": "2023-12-16T13:45:22.892278500Z"
    }
   },
   "id": "b6e4d3542db77bdf"
  },
  {
   "cell_type": "code",
   "execution_count": 28,
   "outputs": [
    {
     "name": "stdout",
     "output_type": "stream",
     "text": [
      "35/35 [==============================] - 0s 6ms/step - loss: 0.0479 - accuracy: 0.9865 - precision: 0.9549\n"
     ]
    }
   ],
   "source": [
    "accr = model.evaluate(test_sequences_matrix,Y_test)"
   ],
   "metadata": {
    "collapsed": false,
    "ExecuteTime": {
     "end_time": "2023-12-16T13:45:28.406054700Z",
     "start_time": "2023-12-16T13:45:28.144633600Z"
    }
   },
   "id": "f88ff868c2542e2c"
  },
  {
   "cell_type": "code",
   "execution_count": 29,
   "outputs": [
    {
     "name": "stdout",
     "output_type": "stream",
     "text": [
      "Test set\n",
      "  Loss: 0.048\n",
      "  Accuracy: 0.987\n"
     ]
    }
   ],
   "source": [
    "print('Test set\\n  Loss: {:0.3f}\\n  Accuracy: {:0.3f}'.format(accr[0],accr[1]))"
   ],
   "metadata": {
    "collapsed": false,
    "ExecuteTime": {
     "end_time": "2023-12-16T13:45:34.694455Z",
     "start_time": "2023-12-16T13:45:34.687456200Z"
    }
   },
   "id": "4f85088aa2c4f163"
  },
  {
   "cell_type": "code",
   "execution_count": 30,
   "outputs": [
    {
     "name": "stdout",
     "output_type": "stream",
     "text": [
      " LSTM Test set\n",
      "  Loss: 0.048\n",
      "  Accuracy: 0.987\n"
     ]
    }
   ],
   "source": [
    "print(' LSTM Test set\\n  Loss: {:0.3f}\\n  Accuracy: {:0.3f}'.format(accr[0],accr[1]))"
   ],
   "metadata": {
    "collapsed": false,
    "ExecuteTime": {
     "end_time": "2023-12-16T13:46:09.766644500Z",
     "start_time": "2023-12-16T13:46:09.764115400Z"
    }
   },
   "id": "38e9e23783f8cc98"
  }
 ],
 "metadata": {
  "kernelspec": {
   "display_name": "Python 3",
   "language": "python",
   "name": "python3"
  },
  "language_info": {
   "codemirror_mode": {
    "name": "ipython",
    "version": 2
   },
   "file_extension": ".py",
   "mimetype": "text/x-python",
   "name": "python",
   "nbconvert_exporter": "python",
   "pygments_lexer": "ipython2",
   "version": "2.7.6"
  }
 },
 "nbformat": 4,
 "nbformat_minor": 5
}
