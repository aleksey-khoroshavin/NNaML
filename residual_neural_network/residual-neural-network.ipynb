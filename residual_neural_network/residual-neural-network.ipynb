{
 "cells": [
  {
   "cell_type": "code",
   "execution_count": 80,
   "id": "initial_id",
   "metadata": {
    "collapsed": true,
    "ExecuteTime": {
     "end_time": "2023-12-15T13:00:11.699035600Z",
     "start_time": "2023-12-15T13:00:11.691027100Z"
    }
   },
   "outputs": [],
   "source": [
    "import numpy as np\n",
    "import matplotlib.pyplot as plt\n",
    "import sklearn.metrics\n",
    "\n",
    "import torch\n",
    "import torchvision\n",
    "import torch.nn as nn\n",
    "import torch.nn.functional as F\n",
    "from torchvision.datasets import CIFAR100\n",
    "from torch.utils.data.dataloader import DataLoader\n",
    "import torchvision.transforms as tt\n",
    "import seaborn as sns\n",
    "from sklearn.metrics import confusion_matrix, accuracy_score\n",
    "import sklearn"
   ]
  },
  {
   "cell_type": "code",
   "execution_count": 2,
   "outputs": [],
   "source": [
    "stats = ((0.5074,0.4867,0.4411),(0.2011,0.1987,0.2025))\n",
    "train_transform = tt.Compose([\n",
    "    tt.RandomHorizontalFlip(),\n",
    "    tt.RandomCrop(32, padding=4, padding_mode=\"reflect\"),\n",
    "    tt.ToTensor(),\n",
    "    tt.Normalize(*stats)\n",
    "])\n",
    "\n",
    "test_transform = tt.Compose([\n",
    "    tt.ToTensor(),\n",
    "    tt.Normalize(*stats)\n",
    "])"
   ],
   "metadata": {
    "collapsed": false,
    "ExecuteTime": {
     "end_time": "2023-12-15T11:01:45.250648400Z",
     "start_time": "2023-12-15T11:01:45.244431500Z"
    }
   },
   "id": "412b0fffd4c15534"
  },
  {
   "cell_type": "code",
   "execution_count": 3,
   "outputs": [
    {
     "name": "stdout",
     "output_type": "stream",
     "text": [
      "Files already downloaded and verified\n"
     ]
    }
   ],
   "source": [
    "train_data = CIFAR100(download=True, root=\"./data\", transform=train_transform)\n",
    "test_data = CIFAR100(root=\"./data\", train=False, transform=test_transform)"
   ],
   "metadata": {
    "collapsed": false,
    "ExecuteTime": {
     "end_time": "2023-12-15T11:01:46.448505300Z",
     "start_time": "2023-12-15T11:01:45.254280300Z"
    }
   },
   "id": "388e95ad2139b2a0"
  },
  {
   "cell_type": "code",
   "execution_count": 4,
   "outputs": [
    {
     "name": "stdout",
     "output_type": "stream",
     "text": [
      "Image shape:  torch.Size([3, 32, 32])\n",
      "Image tensor:  tensor([[[ 2.4495,  2.4495,  2.4495,  ..., -0.1636,  0.7140,  1.1625],\n",
      "         [ 2.4495,  2.4495,  2.4495,  ..., -0.1831,  0.3825,  0.7335],\n",
      "         [ 2.4495,  2.4495,  2.4495,  ..., -0.0660,  0.2850,  0.5385],\n",
      "         ...,\n",
      "         [-0.5536, -0.8656, -1.1191,  ...,  0.1680, -0.4756, -1.8601],\n",
      "         [-0.0660, -0.5926, -0.7096,  ...,  0.2265, -0.6316, -2.0941],\n",
      "         [ 0.2070,  0.0900,  0.2070,  ..., -1.0411, -1.2556, -1.9381]],\n",
      "\n",
      "        [[ 2.5833,  2.5833,  2.5833,  ...,  0.1755,  1.0636,  1.4781],\n",
      "         [ 2.5833,  2.5833,  2.5833,  ...,  0.1360,  0.7478,  1.1228],\n",
      "         [ 2.5833,  2.5833,  2.5833,  ...,  0.1755,  0.5505,  0.7873],\n",
      "         ...,\n",
      "         [ 0.1952, -0.1403, -0.3969,  ...,  0.9649,  0.1755, -1.7389],\n",
      "         [ 0.7084,  0.2150,  0.0965,  ...,  0.7281, -0.2390, -2.1336],\n",
      "         [ 1.0833,  0.9649,  1.0044,  ..., -0.9297, -1.2258, -2.1139]],\n",
      "\n",
      "        [[ 2.7600,  2.7600,  2.7600,  ..., -0.4934,  0.3393,  1.0945],\n",
      "         [ 2.7600,  2.7600,  2.7600,  ..., -0.4547, -0.0480,  0.4361],\n",
      "         [ 2.7600,  2.7600,  2.7600,  ..., -0.0287,  0.0294,  0.1069],\n",
      "         ...,\n",
      "         [-1.0938, -1.3455, -1.5973,  ..., -0.6484, -1.0357, -1.9846],\n",
      "         [-0.8033, -1.3843, -1.4811,  ..., -0.4934, -1.0938, -2.1202],\n",
      "         [-1.0163, -1.1325, -0.7065,  ..., -1.7910, -1.8878, -2.1589]]])\n",
      "Label:  19\n"
     ]
    }
   ],
   "source": [
    "for image, label in train_data:\n",
    "    print(\"Image shape: \",image.shape)\n",
    "    print(\"Image tensor: \", image)\n",
    "    print(\"Label: \", label)\n",
    "    break"
   ],
   "metadata": {
    "collapsed": false,
    "ExecuteTime": {
     "end_time": "2023-12-15T11:01:46.524526700Z",
     "start_time": "2023-12-15T11:01:46.449505300Z"
    }
   },
   "id": "13a20c11d4fae753"
  },
  {
   "cell_type": "code",
   "execution_count": 5,
   "outputs": [
    {
     "data": {
      "text/plain": "{'cattle': 500,\n 'dinosaur': 500,\n 'apple': 500,\n 'boy': 500,\n 'aquarium_fish': 500,\n 'telephone': 500,\n 'train': 500,\n 'cup': 500,\n 'cloud': 500,\n 'elephant': 500,\n 'keyboard': 500,\n 'willow_tree': 500,\n 'sunflower': 500,\n 'castle': 500,\n 'sea': 500,\n 'bicycle': 500,\n 'wolf': 500,\n 'squirrel': 500,\n 'shrew': 500,\n 'pine_tree': 500,\n 'rose': 500,\n 'television': 500,\n 'table': 500,\n 'possum': 500,\n 'oak_tree': 500,\n 'leopard': 500,\n 'maple_tree': 500,\n 'rabbit': 500,\n 'chimpanzee': 500,\n 'clock': 500,\n 'streetcar': 500,\n 'cockroach': 500,\n 'snake': 500,\n 'lobster': 500,\n 'mountain': 500,\n 'palm_tree': 500,\n 'skyscraper': 500,\n 'tractor': 500,\n 'shark': 500,\n 'butterfly': 500,\n 'bottle': 500,\n 'bee': 500,\n 'chair': 500,\n 'woman': 500,\n 'hamster': 500,\n 'otter': 500,\n 'seal': 500,\n 'lion': 500,\n 'mushroom': 500,\n 'girl': 500,\n 'sweet_pepper': 500,\n 'forest': 500,\n 'crocodile': 500,\n 'orange': 500,\n 'tulip': 500,\n 'mouse': 500,\n 'camel': 500,\n 'caterpillar': 500,\n 'man': 500,\n 'skunk': 500,\n 'kangaroo': 500,\n 'raccoon': 500,\n 'snail': 500,\n 'rocket': 500,\n 'whale': 500,\n 'worm': 500,\n 'turtle': 500,\n 'beaver': 500,\n 'plate': 500,\n 'wardrobe': 500,\n 'road': 500,\n 'fox': 500,\n 'flatfish': 500,\n 'tiger': 500,\n 'ray': 500,\n 'dolphin': 500,\n 'poppy': 500,\n 'porcupine': 500,\n 'lamp': 500,\n 'crab': 500,\n 'motorcycle': 500,\n 'spider': 500,\n 'tank': 500,\n 'orchid': 500,\n 'lizard': 500,\n 'beetle': 500,\n 'bridge': 500,\n 'baby': 500,\n 'lawn_mower': 500,\n 'house': 500,\n 'bus': 500,\n 'couch': 500,\n 'bowl': 500,\n 'pear': 500,\n 'bed': 500,\n 'plain': 500,\n 'trout': 500,\n 'bear': 500,\n 'pickup_truck': 500,\n 'can': 500}"
     },
     "execution_count": 5,
     "metadata": {},
     "output_type": "execute_result"
    }
   ],
   "source": [
    "train_classes_items = dict()\n",
    "\n",
    "for train_item in train_data:\n",
    "    label = train_data.classes[train_item[1]]\n",
    "    if label not in train_classes_items:\n",
    "        train_classes_items[label] = 1\n",
    "    else:\n",
    "        train_classes_items[label] += 1\n",
    "\n",
    "train_classes_items"
   ],
   "metadata": {
    "collapsed": false,
    "ExecuteTime": {
     "end_time": "2023-12-15T11:02:10.279736Z",
     "start_time": "2023-12-15T11:01:46.515509600Z"
    }
   },
   "id": "f6e27da9a6fcdb"
  },
  {
   "cell_type": "code",
   "execution_count": 6,
   "outputs": [],
   "source": [
    "BATCH_SIZE = 128\n",
    "train_dl = DataLoader(train_data, BATCH_SIZE, num_workers=4, pin_memory=True, shuffle=True)\n",
    "test_dl = DataLoader(test_data, BATCH_SIZE, num_workers=4, pin_memory=True)"
   ],
   "metadata": {
    "collapsed": false,
    "ExecuteTime": {
     "end_time": "2023-12-15T11:02:10.285100800Z",
     "start_time": "2023-12-15T11:02:10.279736Z"
    }
   },
   "id": "c99679efcbbfb5cd"
  },
  {
   "cell_type": "code",
   "execution_count": 7,
   "outputs": [
    {
     "name": "stderr",
     "output_type": "stream",
     "text": [
      "Clipping input data to the valid range for imshow with RGB data ([0..1] for floats or [0..255] for integers).\n"
     ]
    },
    {
     "data": {
      "text/plain": "<Figure size 2000x2000 with 1 Axes>",
      "image/png": "[encoded data removed]"
     },
     "metadata": {},
     "output_type": "display_data"
    },
    {
     "name": "stdout",
     "output_type": "stream",
     "text": [
      "plain               snake               raccoon             cup                 hamster             keyboard            boy                 cloud               \n"
     ]
    }
   ],
   "source": [
    "train_8_samples = DataLoader(train_data, 8, num_workers=4, pin_memory=True, shuffle=True)\n",
    "\n",
    "def imshow(img):\n",
    "    img = img / 2 + 0.5\n",
    "    npimg = img.numpy()\n",
    "    plt.figure(figsize = (20,20))\n",
    "    plt.imshow(np.transpose(npimg, (1, 2, 0)))\n",
    "    plt.show()\n",
    "\n",
    "dataiter = iter(train_8_samples)\n",
    "images, labels = next(dataiter)\n",
    "\n",
    "imshow(torchvision.utils.make_grid(images))\n",
    "print(''.join(f'{train_data.classes[labels[j]]:20s}' for j in range(8)))"
   ],
   "metadata": {
    "collapsed": false,
    "ExecuteTime": {
     "end_time": "2023-12-15T11:02:19.612615100Z",
     "start_time": "2023-12-15T11:02:10.284101100Z"
    }
   },
   "id": "6dc7ba76e90186af"
  },
  {
   "cell_type": "code",
   "execution_count": 8,
   "outputs": [],
   "source": [
    "def get_device():\n",
    "    if torch.cuda.is_available():\n",
    "        return torch.device(\"cuda\")\n",
    "    return torch.device(\"cpu\")\n",
    "\n",
    "def to_device(data,device):\n",
    "    if isinstance(data,(list,tuple)):\n",
    "        return [to_device(x,device) for x in data]\n",
    "    return data.to(device,non_blocking=True)\n",
    "\n",
    "class ToDeviceLoader:\n",
    "    def __init__(self,data,device):\n",
    "        self.data = data\n",
    "        self.device = device\n",
    "        \n",
    "    def __iter__(self):\n",
    "        for batch in self.data:\n",
    "            yield to_device(batch,self.device)\n",
    "            \n",
    "    def __len__(self):\n",
    "        return len(self.data)"
   ],
   "metadata": {
    "collapsed": false,
    "ExecuteTime": {
     "end_time": "2023-12-15T11:02:19.627582300Z",
     "start_time": "2023-12-15T11:02:19.613608400Z"
    }
   },
   "id": "d3ee5586b3071bbc"
  },
  {
   "cell_type": "code",
   "execution_count": 9,
   "outputs": [
    {
     "name": "stdout",
     "output_type": "stream",
     "text": [
      "cuda\n"
     ]
    }
   ],
   "source": [
    "device = get_device()\n",
    "print(device)\n",
    "\n",
    "train_dl = ToDeviceLoader(train_dl, device)\n",
    "test_dl = ToDeviceLoader(test_dl, device)"
   ],
   "metadata": {
    "collapsed": false,
    "ExecuteTime": {
     "end_time": "2023-12-15T11:02:19.632579900Z",
     "start_time": "2023-12-15T11:02:19.618439300Z"
    }
   },
   "id": "d6223416d489ddc6"
  },
  {
   "cell_type": "code",
   "execution_count": 10,
   "outputs": [],
   "source": [
    "def accuracy(predicted, actual):\n",
    "    _, predictions = torch.max(predicted, dim=1)\n",
    "    return torch.tensor(torch.sum(predictions==actual).item()/len(predictions))"
   ],
   "metadata": {
    "collapsed": false,
    "ExecuteTime": {
     "end_time": "2023-12-15T11:02:19.945523600Z",
     "start_time": "2023-12-15T11:02:19.630580300Z"
    }
   },
   "id": "885ae123b5a8332b"
  },
  {
   "cell_type": "code",
   "execution_count": 11,
   "outputs": [],
   "source": [
    "class BaseModel(nn.Module):\n",
    "    def training_step(self,batch):\n",
    "        images, labels = batch\n",
    "        out = self(images)\n",
    "        loss = F.cross_entropy(out,labels)\n",
    "        return loss\n",
    "    \n",
    "    def validation_step(self,batch):\n",
    "        images, labels = batch\n",
    "        out = self(images)\n",
    "        loss = F.cross_entropy(out,labels)\n",
    "        acc = accuracy(out,labels)\n",
    "        return {\"val_loss\":loss.detach(),\"val_acc\":acc}\n",
    "    \n",
    "    def validation_epoch_end(self,outputs):\n",
    "        batch_losses = [loss[\"val_loss\"] for loss in outputs]\n",
    "        loss = torch.stack(batch_losses).mean()\n",
    "        batch_accuracy = [accuracy[\"val_acc\"] for accuracy in outputs]\n",
    "        acc = torch.stack(batch_accuracy).mean()\n",
    "        return {\"val_loss\":loss.item(),\"val_acc\":acc.item()}\n",
    "    \n",
    "    def epoch_end(self, epoch, result):\n",
    "        print(\"Epoch [{}], last_lr: {:.5f}, train_loss: {:.4f}, val_loss: {:.4f}, val_acc: {:.4f}\".format(\n",
    "            epoch, result['lrs'][-1], result['train_loss'], result['val_loss'], result['val_acc']))"
   ],
   "metadata": {
    "collapsed": false,
    "ExecuteTime": {
     "end_time": "2023-12-15T11:02:19.947523900Z",
     "start_time": "2023-12-15T11:02:19.878578800Z"
    }
   },
   "id": "586e4803b16a39f7"
  },
  {
   "cell_type": "code",
   "execution_count": 12,
   "outputs": [],
   "source": [
    "def conv_shortcut(in_channel, out_channel, stride):\n",
    "    layers = [nn.Conv2d(in_channel, out_channel, kernel_size=(1,1), stride=(stride, stride)),\n",
    "             nn.BatchNorm2d(out_channel)]\n",
    "    return nn.Sequential(*layers)\n",
    "\n",
    "def block(in_channel, out_channel, k_size,stride, conv=False):\n",
    "    layers = None\n",
    "    \n",
    "    first_layers = [nn.Conv2d(in_channel,out_channel[0], kernel_size=(1,1),stride=(1,1)),\n",
    "                    nn.BatchNorm2d(out_channel[0]),\n",
    "                    nn.ReLU(inplace=True)]\n",
    "    if conv:\n",
    "        first_layers[0].stride=(stride,stride)\n",
    "    \n",
    "    second_layers = [nn.Conv2d(out_channel[0], out_channel[1], kernel_size=(k_size, k_size), stride=(1,1), padding=1),\n",
    "                    nn.BatchNorm2d(out_channel[1])]\n",
    "\n",
    "    layers = first_layers + second_layers\n",
    "    \n",
    "    return nn.Sequential(*layers)\n",
    "    \n",
    "\n",
    "class ResNet(BaseModel):\n",
    "    \n",
    "    def __init__(self, in_channels, num_classes):\n",
    "        super().__init__()\n",
    "        \n",
    "        self.stg1 = nn.Sequential(\n",
    "                                   nn.Conv2d(in_channels=in_channels, out_channels=64, kernel_size=(3),\n",
    "                                             stride=(1), padding=1),\n",
    "                                   nn.BatchNorm2d(64),\n",
    "                                   nn.ReLU(inplace=True),\n",
    "                                   nn.MaxPool2d(kernel_size=3, stride=2))\n",
    "        \n",
    "        ##stage 2\n",
    "        self.convShortcut2 = conv_shortcut(64,256,1)\n",
    "        \n",
    "        self.conv2 = block(64,[64,256],3,1,conv=True)\n",
    "        self.ident2 = block(256,[64,256],3,1)\n",
    "\n",
    "        \n",
    "        ##stage 3\n",
    "        self.convShortcut3 = conv_shortcut(256,512,2)\n",
    "        \n",
    "        self.conv3 = block(256,[128,512],3,2,conv=True)\n",
    "        self.ident3 = block(512,[128,512],3,2)\n",
    "\n",
    "        \n",
    "        ##stage 4\n",
    "        self.convShortcut4 = conv_shortcut(512,1024,2)\n",
    "        \n",
    "        self.conv4 = block(512,[256,1024],3,2,conv=True)\n",
    "        self.ident4 = block(1024,[256,1024],3,2)\n",
    "        \n",
    "        \n",
    "        ##Classify\n",
    "        self.classifier = nn.Sequential(\n",
    "                                       nn.AvgPool2d(kernel_size=(4)),\n",
    "                                       nn.Flatten(),\n",
    "                                       nn.Linear(1024, num_classes))\n",
    "        \n",
    "    def forward(self,inputs):\n",
    "        out = self.stg1(inputs)\n",
    "        \n",
    "        #stage 2\n",
    "        out = F.relu(self.conv2(out) + self.convShortcut2(out))\n",
    "        out = F.relu(self.ident2(out) + out)\n",
    "        out = F.relu(self.ident2(out) + out)\n",
    "        out = F.relu(self.ident2(out) + out)\n",
    "        \n",
    "        #stage3\n",
    "        out = F.relu(self.conv3(out) + (self.convShortcut3(out)))\n",
    "        out = F.relu(self.ident3(out) + out)\n",
    "        out = F.relu(self.ident3(out) + out)\n",
    "        out = F.relu(self.ident3(out) + out)\n",
    "        out = F.relu(self.ident3(out) + out)\n",
    "        \n",
    "        #stage4             \n",
    "        out = F.relu(self.conv4(out) + (self.convShortcut4(out)))\n",
    "        out = F.relu(self.ident4(out) + out)\n",
    "        out = F.relu(self.ident4(out) + out)\n",
    "        out = F.relu(self.ident4(out) + out)\n",
    "        out = F.relu(self.ident4(out) + out)\n",
    "        out = F.relu(self.ident4(out) + out)\n",
    "        out = F.relu(self.ident4(out) + out)\n",
    "        \n",
    "        #Classify\n",
    "        out = self.classifier(out)#100x1024\n",
    "        \n",
    "        return out"
   ],
   "metadata": {
    "collapsed": false,
    "ExecuteTime": {
     "end_time": "2023-12-15T11:02:19.976523600Z",
     "start_time": "2023-12-15T11:02:19.889580100Z"
    }
   },
   "id": "6ed2932139f135eb"
  },
  {
   "cell_type": "code",
   "execution_count": 13,
   "outputs": [],
   "source": [
    "model = ResNet(3,100)"
   ],
   "metadata": {
    "collapsed": false,
    "ExecuteTime": {
     "end_time": "2023-12-15T11:02:19.999126700Z",
     "start_time": "2023-12-15T11:02:19.903524100Z"
    }
   },
   "id": "9ceda04fd60447be"
  },
  {
   "cell_type": "code",
   "execution_count": 14,
   "outputs": [],
   "source": [
    "model = to_device(model, device)"
   ],
   "metadata": {
    "collapsed": false,
    "ExecuteTime": {
     "end_time": "2023-12-15T11:02:20.001126700Z",
     "start_time": "2023-12-15T11:02:19.957525400Z"
    }
   },
   "id": "f69e396ccbf6068b"
  },
  {
   "cell_type": "code",
   "execution_count": 15,
   "outputs": [],
   "source": [
    "@torch.no_grad()\n",
    "def evaluate(model,test_dl):\n",
    "    model.eval()\n",
    "    outputs = [model.validation_step(batch) for batch in test_dl]\n",
    "    return model.validation_epoch_end(outputs)"
   ],
   "metadata": {
    "collapsed": false,
    "ExecuteTime": {
     "end_time": "2023-12-15T11:02:20.027124700Z",
     "start_time": "2023-12-15T11:02:19.978523800Z"
    }
   },
   "id": "509e25ca399f098e"
  },
  {
   "cell_type": "code",
   "execution_count": 16,
   "outputs": [],
   "source": [
    "def get_lr(optimizer):\n",
    "    for param_group in optimizer.param_groups:\n",
    "        return param_group['lr']\n",
    "\n",
    "def fit (epochs, train_dl, test_dl, model, optimizer, max_lr, weight_decay, scheduler, grad_clip=None):\n",
    "    torch.cuda.empty_cache()\n",
    "    \n",
    "    history = []\n",
    "    \n",
    "    optimizer = optimizer(model.parameters(), max_lr, weight_decay = weight_decay)\n",
    "    \n",
    "    scheduler = scheduler(optimizer, max_lr, epochs=epochs, steps_per_epoch=len(train_dl))\n",
    "    \n",
    "    for epoch in range(epochs):\n",
    "        model.train()\n",
    "        \n",
    "        train_loss = []\n",
    "        \n",
    "        lrs = []\n",
    "        \n",
    "        for batch in train_dl:\n",
    "            loss = model.training_step(batch)\n",
    "            \n",
    "            train_loss.append(loss)\n",
    "            \n",
    "            loss.backward()\n",
    "            \n",
    "            if grad_clip:\n",
    "                nn.utils.clip_grad_value_(model.parameters(), grad_clip)\n",
    "            \n",
    "            optimizer.step()\n",
    "            optimizer.zero_grad()\n",
    "            \n",
    "            scheduler.step()\n",
    "            lrs.append(get_lr(optimizer))\n",
    "        result = evaluate(model, test_dl)\n",
    "        result[\"train_loss\"] = torch.stack(train_loss).mean().item()\n",
    "        result[\"lrs\"] = lrs\n",
    "        \n",
    "        model.epoch_end(epoch,result)\n",
    "        history.append(result)\n",
    "        \n",
    "    return history"
   ],
   "metadata": {
    "collapsed": false,
    "ExecuteTime": {
     "end_time": "2023-12-15T11:02:20.028125200Z",
     "start_time": "2023-12-15T11:02:19.984125800Z"
    }
   },
   "id": "1cf82b576943c63b"
  },
  {
   "cell_type": "code",
   "execution_count": 17,
   "outputs": [],
   "source": [
    "epochs = 100\n",
    "optimizer = torch.optim.Adam\n",
    "max_lr = 1e-3\n",
    "grad_clip = 0.1\n",
    "weight_decay = 1e-5\n",
    "scheduler = torch.optim.lr_scheduler.OneCycleLR"
   ],
   "metadata": {
    "collapsed": false,
    "ExecuteTime": {
     "end_time": "2023-12-15T11:02:20.044125900Z",
     "start_time": "2023-12-15T11:02:19.997125200Z"
    }
   },
   "id": "c22b500864a3835b"
  },
  {
   "cell_type": "code",
   "execution_count": 18,
   "outputs": [
    {
     "name": "stdout",
     "output_type": "stream",
     "text": [
      "Epoch [0], last_lr: 0.00004, train_loss: 3.8558, val_loss: 4.4079, val_acc: 0.0566\n",
      "Epoch [1], last_lr: 0.00005, train_loss: 3.2076, val_loss: 4.0778, val_acc: 0.0955\n",
      "Epoch [2], last_lr: 0.00006, train_loss: 2.8912, val_loss: 3.8116, val_acc: 0.1295\n",
      "Epoch [3], last_lr: 0.00008, train_loss: 2.6509, val_loss: 3.3953, val_acc: 0.1927\n",
      "Epoch [4], last_lr: 0.00010, train_loss: 2.4612, val_loss: 3.0556, val_acc: 0.2309\n",
      "Epoch [5], last_lr: 0.00013, train_loss: 2.3193, val_loss: 2.9484, val_acc: 0.2646\n",
      "Epoch [6], last_lr: 0.00016, train_loss: 2.1927, val_loss: 2.6882, val_acc: 0.3005\n",
      "Epoch [7], last_lr: 0.00020, train_loss: 2.0922, val_loss: 2.6404, val_acc: 0.3259\n",
      "Epoch [8], last_lr: 0.00024, train_loss: 1.9996, val_loss: 2.6677, val_acc: 0.3252\n",
      "Epoch [9], last_lr: 0.00028, train_loss: 1.9208, val_loss: 2.3521, val_acc: 0.3875\n",
      "Epoch [10], last_lr: 0.00032, train_loss: 1.8553, val_loss: 2.5095, val_acc: 0.3534\n",
      "Epoch [11], last_lr: 0.00037, train_loss: 1.7978, val_loss: 2.2698, val_acc: 0.4064\n",
      "Epoch [12], last_lr: 0.00042, train_loss: 1.7448, val_loss: 2.1494, val_acc: 0.4321\n",
      "Epoch [13], last_lr: 0.00047, train_loss: 1.6883, val_loss: 2.2929, val_acc: 0.3935\n",
      "Epoch [14], last_lr: 0.00052, train_loss: 1.6359, val_loss: 2.3666, val_acc: 0.3954\n",
      "Epoch [15], last_lr: 0.00057, train_loss: 1.5912, val_loss: 2.2173, val_acc: 0.4207\n",
      "Epoch [16], last_lr: 0.00062, train_loss: 1.5414, val_loss: 2.1317, val_acc: 0.4331\n",
      "Epoch [17], last_lr: 0.00067, train_loss: 1.4873, val_loss: 2.1148, val_acc: 0.4528\n",
      "Epoch [18], last_lr: 0.00072, train_loss: 1.4337, val_loss: 1.9850, val_acc: 0.4689\n",
      "Epoch [19], last_lr: 0.00076, train_loss: 1.3849, val_loss: 2.0033, val_acc: 0.4663\n",
      "Epoch [20], last_lr: 0.00080, train_loss: 1.3311, val_loss: 1.8250, val_acc: 0.5054\n",
      "Epoch [21], last_lr: 0.00084, train_loss: 1.2810, val_loss: 1.8666, val_acc: 0.4948\n",
      "Epoch [22], last_lr: 0.00088, train_loss: 1.2179, val_loss: 1.7872, val_acc: 0.5141\n",
      "Epoch [23], last_lr: 0.00091, train_loss: 1.1729, val_loss: 1.7948, val_acc: 0.5149\n",
      "Epoch [24], last_lr: 0.00094, train_loss: 1.1122, val_loss: 1.6440, val_acc: 0.5546\n",
      "Epoch [25], last_lr: 0.00096, train_loss: 1.0540, val_loss: 1.6034, val_acc: 0.5638\n",
      "Epoch [26], last_lr: 0.00098, train_loss: 1.0207, val_loss: 1.5250, val_acc: 0.5756\n",
      "Epoch [27], last_lr: 0.00099, train_loss: 0.9679, val_loss: 1.4975, val_acc: 0.5889\n",
      "Epoch [28], last_lr: 0.00100, train_loss: 0.9205, val_loss: 1.4847, val_acc: 0.5916\n",
      "Epoch [29], last_lr: 0.00100, train_loss: 0.8635, val_loss: 1.4573, val_acc: 0.6017\n",
      "Epoch [30], last_lr: 0.00100, train_loss: 0.8259, val_loss: 1.4551, val_acc: 0.6043\n",
      "Epoch [31], last_lr: 0.00100, train_loss: 0.7820, val_loss: 1.4553, val_acc: 0.6173\n",
      "Epoch [32], last_lr: 0.00100, train_loss: 0.7345, val_loss: 1.4065, val_acc: 0.6277\n",
      "Epoch [33], last_lr: 0.00099, train_loss: 0.6956, val_loss: 1.4689, val_acc: 0.6146\n",
      "Epoch [34], last_lr: 0.00099, train_loss: 0.6556, val_loss: 1.4091, val_acc: 0.6343\n",
      "Epoch [35], last_lr: 0.00098, train_loss: 0.6130, val_loss: 1.4492, val_acc: 0.6337\n",
      "Epoch [36], last_lr: 0.00098, train_loss: 0.5832, val_loss: 1.4879, val_acc: 0.6277\n",
      "Epoch [37], last_lr: 0.00097, train_loss: 0.5445, val_loss: 1.4996, val_acc: 0.6279\n",
      "Epoch [38], last_lr: 0.00096, train_loss: 0.5148, val_loss: 1.4350, val_acc: 0.6438\n",
      "Epoch [39], last_lr: 0.00095, train_loss: 0.4858, val_loss: 1.5284, val_acc: 0.6416\n",
      "Epoch [40], last_lr: 0.00094, train_loss: 0.4592, val_loss: 1.5105, val_acc: 0.6429\n",
      "Epoch [41], last_lr: 0.00093, train_loss: 0.4355, val_loss: 1.5137, val_acc: 0.6440\n",
      "Epoch [42], last_lr: 0.00092, train_loss: 0.3989, val_loss: 1.5419, val_acc: 0.6405\n",
      "Epoch [43], last_lr: 0.00090, train_loss: 0.3768, val_loss: 1.5618, val_acc: 0.6489\n",
      "Epoch [44], last_lr: 0.00089, train_loss: 0.3495, val_loss: 1.5238, val_acc: 0.6522\n",
      "Epoch [45], last_lr: 0.00088, train_loss: 0.3307, val_loss: 1.5437, val_acc: 0.6556\n",
      "Epoch [46], last_lr: 0.00086, train_loss: 0.3078, val_loss: 1.5954, val_acc: 0.6552\n",
      "Epoch [47], last_lr: 0.00085, train_loss: 0.2935, val_loss: 1.5882, val_acc: 0.6548\n",
      "Epoch [48], last_lr: 0.00083, train_loss: 0.2822, val_loss: 1.6862, val_acc: 0.6457\n",
      "Epoch [49], last_lr: 0.00081, train_loss: 0.2658, val_loss: 1.6455, val_acc: 0.6561\n",
      "Epoch [50], last_lr: 0.00079, train_loss: 0.2374, val_loss: 1.6044, val_acc: 0.6629\n",
      "Epoch [51], last_lr: 0.00078, train_loss: 0.2311, val_loss: 1.6401, val_acc: 0.6654\n",
      "Epoch [52], last_lr: 0.00076, train_loss: 0.2090, val_loss: 1.6891, val_acc: 0.6677\n",
      "Epoch [53], last_lr: 0.00074, train_loss: 0.2056, val_loss: 1.7210, val_acc: 0.6580\n",
      "Epoch [54], last_lr: 0.00072, train_loss: 0.1849, val_loss: 1.7271, val_acc: 0.6674\n",
      "Epoch [55], last_lr: 0.00070, train_loss: 0.1785, val_loss: 1.6742, val_acc: 0.6671\n",
      "Epoch [56], last_lr: 0.00068, train_loss: 0.1635, val_loss: 1.7057, val_acc: 0.6720\n",
      "Epoch [57], last_lr: 0.00065, train_loss: 0.1504, val_loss: 1.7888, val_acc: 0.6592\n",
      "Epoch [58], last_lr: 0.00063, train_loss: 0.1505, val_loss: 1.7599, val_acc: 0.6751\n",
      "Epoch [59], last_lr: 0.00061, train_loss: 0.1355, val_loss: 1.8281, val_acc: 0.6670\n",
      "Epoch [60], last_lr: 0.00059, train_loss: 0.1247, val_loss: 1.7923, val_acc: 0.6724\n",
      "Epoch [61], last_lr: 0.00057, train_loss: 0.1120, val_loss: 1.8191, val_acc: 0.6734\n",
      "Epoch [62], last_lr: 0.00054, train_loss: 0.1056, val_loss: 1.8037, val_acc: 0.6780\n",
      "Epoch [63], last_lr: 0.00052, train_loss: 0.1009, val_loss: 1.8410, val_acc: 0.6763\n",
      "Epoch [64], last_lr: 0.00050, train_loss: 0.0949, val_loss: 1.8259, val_acc: 0.6783\n",
      "Epoch [65], last_lr: 0.00048, train_loss: 0.0843, val_loss: 1.7890, val_acc: 0.6797\n",
      "Epoch [66], last_lr: 0.00046, train_loss: 0.0771, val_loss: 1.8321, val_acc: 0.6829\n",
      "Epoch [67], last_lr: 0.00043, train_loss: 0.0687, val_loss: 1.8731, val_acc: 0.6750\n",
      "Epoch [68], last_lr: 0.00041, train_loss: 0.0656, val_loss: 1.8351, val_acc: 0.6852\n",
      "Epoch [69], last_lr: 0.00039, train_loss: 0.0635, val_loss: 1.8189, val_acc: 0.6898\n",
      "Epoch [70], last_lr: 0.00037, train_loss: 0.0566, val_loss: 1.8630, val_acc: 0.6848\n",
      "Epoch [71], last_lr: 0.00035, train_loss: 0.0505, val_loss: 1.8603, val_acc: 0.6830\n",
      "Epoch [72], last_lr: 0.00032, train_loss: 0.0458, val_loss: 1.8870, val_acc: 0.6885\n",
      "Epoch [73], last_lr: 0.00030, train_loss: 0.0414, val_loss: 1.8814, val_acc: 0.6873\n",
      "Epoch [74], last_lr: 0.00028, train_loss: 0.0378, val_loss: 1.8756, val_acc: 0.6949\n",
      "Epoch [75], last_lr: 0.00026, train_loss: 0.0334, val_loss: 1.8904, val_acc: 0.6920\n",
      "Epoch [76], last_lr: 0.00024, train_loss: 0.0320, val_loss: 1.9235, val_acc: 0.6892\n",
      "Epoch [77], last_lr: 0.00022, train_loss: 0.0255, val_loss: 1.9281, val_acc: 0.6889\n",
      "Epoch [78], last_lr: 0.00021, train_loss: 0.0232, val_loss: 1.9393, val_acc: 0.6964\n",
      "Epoch [79], last_lr: 0.00019, train_loss: 0.0215, val_loss: 1.9477, val_acc: 0.6968\n",
      "Epoch [80], last_lr: 0.00017, train_loss: 0.0191, val_loss: 1.9112, val_acc: 0.6991\n",
      "Epoch [81], last_lr: 0.00015, train_loss: 0.0166, val_loss: 1.9584, val_acc: 0.7019\n",
      "Epoch [82], last_lr: 0.00014, train_loss: 0.0140, val_loss: 1.9347, val_acc: 0.7044\n",
      "Epoch [83], last_lr: 0.00012, train_loss: 0.0137, val_loss: 1.9545, val_acc: 0.6997\n",
      "Epoch [84], last_lr: 0.00011, train_loss: 0.0116, val_loss: 1.8909, val_acc: 0.7053\n",
      "Epoch [85], last_lr: 0.00010, train_loss: 0.0108, val_loss: 1.9270, val_acc: 0.7046\n",
      "Epoch [86], last_lr: 0.00008, train_loss: 0.0093, val_loss: 1.9506, val_acc: 0.7046\n",
      "Epoch [87], last_lr: 0.00007, train_loss: 0.0079, val_loss: 1.9753, val_acc: 0.7047\n",
      "Epoch [88], last_lr: 0.00006, train_loss: 0.0075, val_loss: 1.9615, val_acc: 0.7070\n",
      "Epoch [89], last_lr: 0.00005, train_loss: 0.0064, val_loss: 1.9495, val_acc: 0.7094\n",
      "Epoch [90], last_lr: 0.00004, train_loss: 0.0062, val_loss: 1.9779, val_acc: 0.7058\n",
      "Epoch [91], last_lr: 0.00003, train_loss: 0.0062, val_loss: 1.9842, val_acc: 0.7080\n",
      "Epoch [92], last_lr: 0.00002, train_loss: 0.0053, val_loss: 1.9413, val_acc: 0.7107\n",
      "Epoch [93], last_lr: 0.00002, train_loss: 0.0049, val_loss: 1.9723, val_acc: 0.7084\n",
      "Epoch [94], last_lr: 0.00001, train_loss: 0.0045, val_loss: 1.9738, val_acc: 0.7122\n",
      "Epoch [95], last_lr: 0.00001, train_loss: 0.0045, val_loss: 1.9350, val_acc: 0.7109\n",
      "Epoch [96], last_lr: 0.00000, train_loss: 0.0044, val_loss: 1.9287, val_acc: 0.7098\n",
      "Epoch [97], last_lr: 0.00000, train_loss: 0.0041, val_loss: 1.9457, val_acc: 0.7086\n",
      "Epoch [98], last_lr: 0.00000, train_loss: 0.0045, val_loss: 1.9427, val_acc: 0.7117\n",
      "Epoch [99], last_lr: 0.00000, train_loss: 0.0043, val_loss: 1.9551, val_acc: 0.7094\n",
      "CPU times: total: 16min 59s\n",
      "Wall time: 55min\n"
     ]
    }
   ],
   "source": [
    "%%time\n",
    "history = fit(epochs=epochs, train_dl=train_dl, test_dl=test_dl, model=model, \n",
    "              optimizer=optimizer, max_lr=max_lr, grad_clip=grad_clip,\n",
    "              weight_decay=weight_decay, scheduler=torch.optim.lr_scheduler.OneCycleLR)"
   ],
   "metadata": {
    "collapsed": false,
    "ExecuteTime": {
     "end_time": "2023-12-15T11:57:20.518062200Z",
     "start_time": "2023-12-15T11:02:20.007124600Z"
    }
   },
   "id": "12b0289080203deb"
  },
  {
   "cell_type": "code",
   "execution_count": 28,
   "outputs": [],
   "source": [
    "def plot_acc(history):\n",
    "    plt.plot([x[\"val_acc\"] for x in history],\"-\")\n",
    "    plt.xlabel(\"Epoch\")\n",
    "    plt.ylabel(\"Accuracy\")\n",
    "\n",
    "def plot_loss(history):\n",
    "    plt.plot([x.get(\"train_loss\") for x in history], \"-b\")\n",
    "    plt.plot([x[\"val_loss\"] for x in history],\"-r\")\n",
    "    plt.xlabel(\"Epoch\")\n",
    "    plt.ylabel(\"Loss\")\n",
    "    plt.legend([\"train loss\",\"val loss\"])\n",
    "    \n",
    "def plot_lrs(history):\n",
    "    plt.plot(np.concatenate([x.get(\"lrs\",[]) for x in history]))\n",
    "    plt.xlabel(\"Batch number\")\n",
    "    plt.ylabel(\"Learning rate\")"
   ],
   "metadata": {
    "collapsed": false,
    "ExecuteTime": {
     "end_time": "2023-12-15T12:02:09.325814100Z",
     "start_time": "2023-12-15T12:02:09.319290600Z"
    }
   },
   "id": "bbf4658ecaae7f07"
  },
  {
   "cell_type": "code",
   "execution_count": 29,
   "outputs": [
    {
     "data": {
      "text/plain": "<Figure size 640x480 with 1 Axes>",
      "image/png": "[encoded data removed]"
     },
     "metadata": {},
     "output_type": "display_data"
    }
   ],
   "source": [
    "plot_loss(history)"
   ],
   "metadata": {
    "collapsed": false,
    "ExecuteTime": {
     "end_time": "2023-12-15T12:02:10.313866100Z",
     "start_time": "2023-12-15T12:02:10.202255500Z"
    }
   },
   "id": "3adf63db3b2e8cc1"
  },
  {
   "cell_type": "code",
   "execution_count": 30,
   "outputs": [
    {
     "data": {
      "text/plain": "<Figure size 640x480 with 1 Axes>",
      "image/png": "[encoded data removed]"
     },
     "metadata": {},
     "output_type": "display_data"
    }
   ],
   "source": [
    "plot_acc(history)"
   ],
   "metadata": {
    "collapsed": false,
    "ExecuteTime": {
     "end_time": "2023-12-15T12:02:11.622789200Z",
     "start_time": "2023-12-15T12:02:11.514739Z"
    }
   },
   "id": "8c10ca0ff27ab4bc"
  },
  {
   "cell_type": "code",
   "execution_count": 32,
   "outputs": [],
   "source": [
    "def predict_image(img, model):\n",
    "    xb = to_device(img.unsqueeze(0), device)\n",
    "    yb = model(xb)\n",
    "    _, preds  = torch.max(yb, dim=1)\n",
    "    return test_data.classes[preds[0].item()]"
   ],
   "metadata": {
    "collapsed": false,
    "ExecuteTime": {
     "end_time": "2023-12-15T12:02:18.951105300Z",
     "start_time": "2023-12-15T12:02:18.942319500Z"
    }
   },
   "id": "3b05faa07ea89e84"
  },
  {
   "cell_type": "code",
   "execution_count": 46,
   "outputs": [],
   "source": [
    "def plot_confusion_matrix(cm, classes,\n",
    "                          normalize=False,\n",
    "                          cmap='gray_r',\n",
    "                          linecolor='k'):\n",
    "\n",
    "    fmt = '.3f' if normalize else 'd'\n",
    "    sns.heatmap(cm, fmt=fmt, annot=True, square=True,\n",
    "                xticklabels=classes, yticklabels=classes,\n",
    "                cmap=cmap, vmin=0, vmax=0,\n",
    "                linewidths=0.5, linecolor=linecolor,\n",
    "                cbar=False)\n",
    "    sns.despine(left=False, right=False, top=False, bottom=False)\n",
    "    \n",
    "    plt.title('Confusion Matrix')\n",
    "    plt.ylabel('True class')\n",
    "    plt.xlabel('Predicted class')\n",
    "    plt.tight_layout()"
   ],
   "metadata": {
    "collapsed": false,
    "ExecuteTime": {
     "end_time": "2023-12-15T12:15:46.539351300Z",
     "start_time": "2023-12-15T12:15:46.533959600Z"
    }
   },
   "id": "f1cb412e299a834f"
  },
  {
   "cell_type": "code",
   "execution_count": 36,
   "outputs": [],
   "source": [
    "predicted_class = []\n",
    "true_class = []\n",
    "\n",
    "for i in range(len(test_data)):\n",
    "    img, label = test_data[i]\n",
    "    true_class.append(test_data.classes[label])\n",
    "    predicted_class.append(predict_image(img, model))"
   ],
   "metadata": {
    "collapsed": false,
    "ExecuteTime": {
     "end_time": "2023-12-15T12:10:19.776885300Z",
     "start_time": "2023-12-15T12:09:51.757403100Z"
    }
   },
   "id": "fea11cf65be71cb4"
  },
  {
   "cell_type": "code",
   "execution_count": 40,
   "outputs": [
    {
     "name": "stdout",
     "output_type": "stream",
     "text": [
      "               precision    recall  f1-score   support\n",
      "\n",
      "        apple       0.93      0.86      0.90       100\n",
      "aquarium_fish       0.75      0.85      0.80       100\n",
      "         baby       0.51      0.63      0.56       100\n",
      "         bear       0.56      0.57      0.56       100\n",
      "       beaver       0.57      0.56      0.56       100\n",
      "          bed       0.77      0.73      0.75       100\n",
      "          bee       0.73      0.78      0.75       100\n",
      "       beetle       0.80      0.70      0.75       100\n",
      "      bicycle       0.78      0.84      0.81       100\n",
      "       bottle       0.79      0.77      0.78       100\n",
      "         bowl       0.57      0.50      0.53       100\n",
      "          boy       0.57      0.43      0.49       100\n",
      "       bridge       0.72      0.83      0.77       100\n",
      "          bus       0.70      0.62      0.66       100\n",
      "    butterfly       0.65      0.71      0.68       100\n",
      "        camel       0.73      0.82      0.77       100\n",
      "          can       0.78      0.70      0.74       100\n",
      "       castle       0.89      0.81      0.85       100\n",
      "  caterpillar       0.67      0.58      0.62       100\n",
      "       cattle       0.83      0.60      0.70       100\n",
      "        chair       0.88      0.84      0.86       100\n",
      "   chimpanzee       0.81      0.86      0.83       100\n",
      "        clock       0.71      0.66      0.68       100\n",
      "        cloud       0.79      0.82      0.80       100\n",
      "    cockroach       0.84      0.82      0.83       100\n",
      "        couch       0.57      0.68      0.62       100\n",
      "         crab       0.78      0.62      0.69       100\n",
      "    crocodile       0.46      0.65      0.54       100\n",
      "          cup       0.83      0.76      0.79       100\n",
      "     dinosaur       0.69      0.71      0.70       100\n",
      "      dolphin       0.69      0.68      0.69       100\n",
      "     elephant       0.79      0.66      0.72       100\n",
      "     flatfish       0.73      0.64      0.68       100\n",
      "       forest       0.85      0.60      0.70       100\n",
      "          fox       0.80      0.69      0.74       100\n",
      "         girl       0.48      0.42      0.45       100\n",
      "      hamster       0.78      0.69      0.73       100\n",
      "        house       0.70      0.75      0.72       100\n",
      "     kangaroo       0.63      0.65      0.64       100\n",
      "     keyboard       0.84      0.81      0.82       100\n",
      "         lamp       0.61      0.67      0.64       100\n",
      "   lawn_mower       0.93      0.88      0.90       100\n",
      "      leopard       0.66      0.76      0.71       100\n",
      "         lion       0.82      0.80      0.81       100\n",
      "       lizard       0.37      0.55      0.45       100\n",
      "      lobster       0.61      0.59      0.60       100\n",
      "          man       0.52      0.44      0.48       100\n",
      "   maple_tree       0.70      0.66      0.68       100\n",
      "   motorcycle       0.84      0.90      0.87       100\n",
      "     mountain       0.80      0.85      0.83       100\n",
      "        mouse       0.38      0.42      0.40       100\n",
      "     mushroom       0.71      0.75      0.73       100\n",
      "     oak_tree       0.61      0.71      0.65       100\n",
      "       orange       0.87      0.94      0.90       100\n",
      "       orchid       0.73      0.83      0.78       100\n",
      "        otter       0.52      0.45      0.48       100\n",
      "    palm_tree       0.98      0.85      0.91       100\n",
      "         pear       0.74      0.76      0.75       100\n",
      " pickup_truck       0.76      0.84      0.80       100\n",
      "    pine_tree       0.60      0.68      0.64       100\n",
      "        plain       0.87      0.90      0.88       100\n",
      "        plate       0.69      0.70      0.70       100\n",
      "        poppy       0.69      0.77      0.73       100\n",
      "    porcupine       0.68      0.70      0.69       100\n",
      "       possum       0.62      0.47      0.53       100\n",
      "       rabbit       0.47      0.65      0.54       100\n",
      "      raccoon       0.91      0.75      0.82       100\n",
      "          ray       0.61      0.62      0.62       100\n",
      "         road       0.93      0.89      0.91       100\n",
      "       rocket       0.88      0.80      0.84       100\n",
      "         rose       0.75      0.73      0.74       100\n",
      "          sea       0.82      0.85      0.83       100\n",
      "         seal       0.42      0.46      0.44       100\n",
      "        shark       0.56      0.58      0.57       100\n",
      "        shrew       0.52      0.53      0.53       100\n",
      "        skunk       0.93      0.89      0.91       100\n",
      "   skyscraper       0.93      0.91      0.92       100\n",
      "        snail       0.78      0.63      0.70       100\n",
      "        snake       0.55      0.63      0.59       100\n",
      "       spider       0.81      0.72      0.76       100\n",
      "     squirrel       0.57      0.60      0.58       100\n",
      "    streetcar       0.70      0.69      0.70       100\n",
      "    sunflower       0.95      0.88      0.91       100\n",
      " sweet_pepper       0.76      0.56      0.64       100\n",
      "        table       0.72      0.72      0.72       100\n",
      "         tank       0.75      0.79      0.77       100\n",
      "    telephone       0.77      0.69      0.73       100\n",
      "   television       0.78      0.84      0.81       100\n",
      "        tiger       0.89      0.79      0.84       100\n",
      "      tractor       0.75      0.85      0.79       100\n",
      "        train       0.66      0.85      0.75       100\n",
      "        trout       0.67      0.82      0.74       100\n",
      "        tulip       0.61      0.62      0.62       100\n",
      "       turtle       0.62      0.57      0.59       100\n",
      "     wardrobe       0.89      0.95      0.92       100\n",
      "        whale       0.77      0.70      0.73       100\n",
      "  willow_tree       0.71      0.63      0.67       100\n",
      "         wolf       0.75      0.75      0.75       100\n",
      "        woman       0.49      0.49      0.49       100\n",
      "         worm       0.72      0.69      0.70       100\n",
      "\n",
      "     accuracy                           0.71     10000\n",
      "    macro avg       0.72      0.71      0.71     10000\n",
      " weighted avg       0.72      0.71      0.71     10000\n"
     ]
    }
   ],
   "source": [
    "print(sklearn.metrics.classification_report(true_class, predicted_class, target_names=test_data.classes))"
   ],
   "metadata": {
    "collapsed": false,
    "ExecuteTime": {
     "end_time": "2023-12-15T12:11:49.575111700Z",
     "start_time": "2023-12-15T12:11:49.474931800Z"
    }
   },
   "id": "dd0a92dbc6e95063"
  },
  {
   "cell_type": "code",
   "execution_count": 70,
   "outputs": [
    {
     "name": "stdout",
     "output_type": "stream",
     "text": [
      "Accuracy:99.6%\n"
     ]
    },
    {
     "data": {
      "text/plain": "<Figure size 640x480 with 1 Axes>",
      "image/png": "[encoded data removed]"
     },
     "metadata": {},
     "output_type": "display_data"
    }
   ],
   "source": [
    "predicted_class = []\n",
    "true_class = []\n",
    "\n",
    "for i in range(5000):\n",
    "    img, label = test_data[i]\n",
    "    if test_data.classes[label] == 'tractor':\n",
    "        true_class.append(test_data.classes[label])\n",
    "    else:\n",
    "        true_class.append('not tractor')\n",
    "\n",
    "for i in range(5000):\n",
    "    img, label = test_data[i]\n",
    "    \n",
    "    pred_label = predict_image(img, model)\n",
    "    if pred_label == 'tractor':\n",
    "        predicted_class.append(pred_label)\n",
    "    else:\n",
    "        predicted_class.append('not tractor')\n",
    "\n",
    "confusion_mtx = confusion_matrix(true_class, predicted_class)\n",
    "plot_confusion_matrix(confusion_mtx, classes=[\"not tractor\", \"tractor\"])\n",
    "\n",
    "print(\"Accuracy:\" + str(accuracy_score(true_class, predicted_class) * 100) + \"%\")"
   ],
   "metadata": {
    "collapsed": false,
    "ExecuteTime": {
     "end_time": "2023-12-15T12:48:27.763856300Z",
     "start_time": "2023-12-15T12:48:13.567190300Z"
    }
   },
   "id": "4fbe60f8920fc94"
  }
 ],
 "metadata": {
  "kernelspec": {
   "display_name": "Python 3",
   "language": "python",
   "name": "python3"
  },
  "language_info": {
   "codemirror_mode": {
    "name": "ipython",
    "version": 2
   },
   "file_extension": ".py",
   "mimetype": "text/x-python",
   "name": "python",
   "nbconvert_exporter": "python",
   "pygments_lexer": "ipython2",
   "version": "2.7.6"
  }
 },
 "nbformat": 4,
 "nbformat_minor": 5
}
